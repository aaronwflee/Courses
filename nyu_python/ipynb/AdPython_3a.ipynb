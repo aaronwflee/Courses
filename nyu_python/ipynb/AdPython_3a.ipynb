{
 "cells": [
  {
   "cell_type": "markdown",
   "metadata": {},
   "source": [
    "# 10/3/2016: Session 3\n",
    "# Complex Sorting; Multidimensional Containers; \"Power Tools\"; OS and File Input/Output"
   ]
  },
  {
   "cell_type": "markdown",
   "metadata": {},
   "source": [
    "### Complex Sorting"
   ]
  },
  {
   "cell_type": "code",
   "execution_count": 99,
   "metadata": {
    "collapsed": false
   },
   "outputs": [
    {
     "name": "stdout",
     "output_type": "stream",
     "text": [
      "Bonjour, mademoiselle!\n"
     ]
    }
   ],
   "source": [
    "def hello(greeting, person):\n",
    "    full_greeting = greeting + \", \" + person + \"!\"\n",
    "    return full_greeting\n",
    "\n",
    "msg = hello('Bonjour', 'mademoiselle')\n",
    "print msg"
   ]
  },
  {
   "cell_type": "code",
   "execution_count": 100,
   "metadata": {
    "collapsed": false
   },
   "outputs": [
    {
     "name": "stdout",
     "output_type": "stream",
     "text": [
      "None\n"
     ]
    }
   ],
   "source": [
    "# instead, if we forget to add \"return\" into the function, we get None\n",
    "\n",
    "def hello(greeting, person):\n",
    "    full_greeting = greeting + \", \" + person + \"!\"\n",
    "\n",
    "msg = hello('Bonjour', 'mademoiselle')\n",
    "print msg"
   ]
  },
  {
   "cell_type": "code",
   "execution_count": 36,
   "metadata": {
    "collapsed": false
   },
   "outputs": [
    {
     "name": "stdout",
     "output_type": "stream",
     "text": [
      "set(['a', 'x', 'b', 'd'])\n",
      "['a', 'x', 'b', 'd']\n",
      "['a', 'x', 'b', 'd']\n"
     ]
    }
   ],
   "source": [
    "# dict as set and list\n",
    "\n",
    "mydict = {'a': 1, 'b': 2, 'd': 5, 'x': 3}\n",
    "myset = set(mydict)\n",
    "print myset  # set of dict\n",
    "\n",
    "print mydict.keys()\n",
    "print keylist  # these two are the same"
   ]
  },
  {
   "cell_type": "code",
   "execution_count": 61,
   "metadata": {
    "collapsed": false
   },
   "outputs": [
    {
     "name": "stdout",
     "output_type": "stream",
     "text": [
      ".get(key,return) searches for key (i.e., first arg), if cannot be found, returns second arg 0\n",
      "sort by dict key: ['aaron', 'isaac', 'kim', 'lily']\n",
      "sort by dict values: ['isaac', 'kim', 'aaron', 'lily']\n"
     ]
    }
   ],
   "source": [
    "# .get()\n",
    "\n",
    "scores = {'aaron': 88, 'isaac': 82, 'lily': 95, 'kim': 86}\n",
    "\n",
    "print '.get(key,return) searches for key (i.e., first arg), if cannot be found, returns second arg', scores.get('z', 0)\n",
    "\n",
    "print 'sort by dict key:', sorted(scores)\n",
    "print 'sort by dict values:', sorted(scores, key=scores.get)"
   ]
  },
  {
   "cell_type": "code",
   "execution_count": 62,
   "metadata": {
    "collapsed": false
   },
   "outputs": [
    {
     "name": "stdout",
     "output_type": "stream",
     "text": [
      "['1', '100', '10000', '200', '3', '5000'] uses string sorting\n",
      "['1', '3', '100', '200', '5000', '10000'] automatically sorts byintegers\n"
     ]
    }
   ],
   "source": [
    "##  sorted(dict, key=)\n",
    "\n",
    "num = ['1', '200', '10000', '3', '100', '5000']\n",
    "normal_sort = sorted(num)\n",
    "key_sort = sorted(num, key=int)\n",
    "print normal_sort, 'uses string sorting'\n",
    "print key_sort, 'automatically sorts byintegers'\n",
    "\n",
    "# a sort criteria (key=) function takes ONE argument (an element to be sorted)\n",
    "# and returns one value (the value by which it should be sorted)\n",
    "# the function is called by python inside the sorted() function\n",
    "# python uses the return value to decide how to sort the element"
   ]
  },
  {
   "cell_type": "code",
   "execution_count": 97,
   "metadata": {
    "collapsed": false
   },
   "outputs": [
    {
     "name": "stdout",
     "output_type": "stream",
     "text": [
      "['Zach S. Aber', 'George L. Aber', 'Amy J. Zed']\n",
      "['George L. Aber', 'Zach S. Aber', 'Amy J. Zed']\n"
     ]
    }
   ],
   "source": [
    "# EXAMPLE: sort by last name\n",
    "names = [ 'Amy J. Zed', 'Zach S. Aber', 'George L. Aber']\n",
    "\n",
    "def bylastname(arg):\n",
    "    names = arg.rsplit(' ')\n",
    "    return (names[2])\n",
    "\n",
    "def bylastthenfirstname(arg):\n",
    "    names = arg.rsplit(' ')\n",
    "    return (names[2], names[0])\n",
    "\n",
    "print sorted(names, key=bylastname)\n",
    "print sorted(names, key=bylastthenfirstname)"
   ]
  },
  {
   "cell_type": "code",
   "execution_count": null,
   "metadata": {
    "collapsed": false
   },
   "outputs": [],
   "source": [
    "import os\n",
    "\n",
    "files = ['test.txt', 'myfile.txt', 'data.csv', 'bigfile.xlsx']   # some files in my current dir\n",
    "\n",
    "size_files = sorted(files, key=os.path.getsize)                  # pass each file to getsize()\n",
    "\n",
    "for this_file in size_files:\n",
    "\tprint \"{}:  {} bytes\".format(this_file, os.path.getsize(this_file))"
   ]
  },
  {
   "cell_type": "markdown",
   "metadata": {},
   "source": [
    "### Multidimentional Containers"
   ]
  },
  {
   "cell_type": "code",
   "execution_count": 128,
   "metadata": {
    "collapsed": true
   },
   "outputs": [],
   "source": [
    "# list of lists\n",
    "\n",
    "value_table =       [\n",
    "                       [ '19260701', 0.09, -0.22, -0.30, 0.009 ],\n",
    "                       [ '19260702', 0.44, -0.35, -0.08, 0.009 ],\n",
    "                       [ '19260703', 0.17, 0.26,  -0.37, 0.009 ]\n",
    "                                                                ]"
   ]
  },
  {
   "cell_type": "code",
   "execution_count": 110,
   "metadata": {
    "collapsed": false
   },
   "outputs": [
    {
     "name": "stdout",
     "output_type": "stream",
     "text": [
      "['19260703', 0.17, 0.26, -0.37, 0.009]\n"
     ]
    },
    {
     "data": {
      "text/plain": [
       "list"
      ]
     },
     "execution_count": 110,
     "metadata": {},
     "output_type": "execute_result"
    }
   ],
   "source": [
    "print value_table[2]\n",
    "type(value_table[2])"
   ]
  },
  {
   "cell_type": "code",
   "execution_count": 107,
   "metadata": {
    "collapsed": false
   },
   "outputs": [
    {
     "name": "stdout",
     "output_type": "stream",
     "text": [
      "0.26\n"
     ]
    },
    {
     "data": {
      "text/plain": [
       "float"
      ]
     },
     "execution_count": 107,
     "metadata": {},
     "output_type": "execute_result"
    }
   ],
   "source": [
    "print value_table[2][2]\n",
    "type(value_table[2][2])"
   ]
  },
  {
   "cell_type": "code",
   "execution_count": 129,
   "metadata": {
    "collapsed": false
   },
   "outputs": [
    {
     "name": "stdout",
     "output_type": "stream",
     "text": [
      "[['19260701', 0.09, -0.22, -0.3, 0.009, 0], ['19260702', 0.44, -0.35, -0.08, 0.009, 0], ['19260703', 0.17, 0.26, -0.37, 0.009, 0]]\n"
     ]
    }
   ],
   "source": [
    "for row in value_table: \n",
    "    row.append(0)\n",
    "print value_table"
   ]
  },
  {
   "cell_type": "code",
   "execution_count": 130,
   "metadata": {
    "collapsed": false
   },
   "outputs": [
    {
     "name": "stdout",
     "output_type": "stream",
     "text": [
      "the MktRF for 19260701 is 0.09\n",
      "the MktRF for 19260702 is 0.44\n",
      "the MktRF for 19260706 is 0.17\n"
     ]
    }
   ],
   "source": [
    "#list of dicts:\n",
    "\n",
    "value_table = [\n",
    "                { 'date': '19260701', 'MktRF': 0.09, 'SMB': -0.22, 'HML': -0.30, 'RF': 0.009 },\n",
    "                { 'date': '19260702', 'MktRF': 0.44, 'SMB': -0.35, 'HML': -0.08, 'RF': 0.009 },\n",
    "                { 'date': '19260706', 'MktRF': 0.17, 'SMB': 0.26,  'HML': -0.37, 'RF': 0.009 }\n",
    "              ]\n",
    "\n",
    "for rowdict in value_table:\n",
    "    print \"the MktRF for {} is {}\".format(rowdict['date'], rowdict['MktRF'])"
   ]
  },
  {
   "cell_type": "code",
   "execution_count": 137,
   "metadata": {
    "collapsed": false
   },
   "outputs": [
    {
     "name": "stdout",
     "output_type": "stream",
     "text": [
      "1926 mean: 0.123333333333\n",
      "1927 mean: -0.0111111111111\n",
      "1928 mean: -0.09\n"
     ]
    }
   ],
   "source": [
    "# dict of lists:\n",
    "\n",
    "value_table = { '1926': [  0.09,  0.44,  0.17, -0.15, -0.06, -0.55,  0.61,  0.05, 0.51 ],\n",
    "                '1927': [ -0.97,  0.30,  0.13, -0.18,  0.31,  0.39,  0.14, -0.27, 0.05 ],\n",
    "                '1928': [  0.43, -0.14, -0.71,  0.61,  0.13, -0.88, -0.85,  0.12, 0.48 ]  }\n",
    "\n",
    "for year in sorted(value_table):\n",
    "    print year, 'mean:', sum(value_table[year])/len(value_table[year])"
   ]
  },
  {
   "cell_type": "code",
   "execution_count": null,
   "metadata": {
    "collapsed": true
   },
   "outputs": [],
   "source": [
    "conf = [    \n",
    "  {\n",
    "    \"domain\": \"www.example1.com\",\n",
    "    \"database\": {\n",
    "      \"host\": \"localhost1\",\n",
    "      \"port\": 27017\n",
    "    },\n",
    "    \"plugins\": [\n",
    "       \"plugin1\",\n",
    "       \"eslint-plugin-plugin1\",\n",
    "       \"plugin2\",\n",
    "       \"plugin3\"\n",
    "    ]\n",
    "  },   # (additional dicts would follow this one in the list)\n"
   ]
  },
  {
   "cell_type": "code",
   "execution_count": null,
   "metadata": {
    "collapsed": true
   },
   "outputs": [],
   "source": [
    "#  pprint() prints a complex structure in readable format.  \n",
    "\n",
    "import pprint\n",
    "\n",
    "dvs = {'19260701': {'HML': -0.3, 'RF': 0.009, 'MktRF': 0.09, 'SMB': -0.22}, '19260702': {'HML': -0.08, 'RF': 0.009, 'MktRF': 0.44, 'SMB': -0.35}}\n",
    "\n",
    "pprint.pprint(dvs)\n",
    "\n",
    "       ### {'19260701': {'HML': -0.3, 'MktRF': 0.09, 'RF': 0.009, 'SMB': -0.22},\n",
    "       ###  '19260702': {'HML': -0.08, 'MktRF': 0.44, 'RF': 0.009, 'SMB': -0.35}}"
   ]
  },
  {
   "cell_type": "code",
   "execution_count": null,
   "metadata": {
    "collapsed": true
   },
   "outputs": [],
   "source": [
    "\n",
    "...\n",
    "\n",
    "studict = {}\n",
    "\n",
    "for line in wanted_lines:\n",
    "    line = line.rstrip()\n",
    "    stu_id, address, city, state, stu_zip = line.split(':')\n",
    "    inner_dict = {'address': address\n",
    "                 'city': city\n",
    "                 'state': state\n",
    "                 'zip': stu_zip}\n",
    "    \n",
    "#    studict[stu_id]['address'] = address\n",
    "#    studict[stu_id]['city'] = city\n",
    "#    studict[stu_id]['state'] = state\n",
    "#    studict[stu_id]['zip'] = stu_zip\n",
    "\n",
    "pprint(studict)\n",
    "print 'zip for student ak9:' studict['ak9']['zip']\n",
    "\n",
    "        "
   ]
  },
  {
   "cell_type": "markdown",
   "metadata": {},
   "source": [
    "Check out Redhat OpenShift (Platform-as-a-service, PaaS)"
   ]
  },
  {
   "cell_type": "code",
   "execution_count": 174,
   "metadata": {
    "collapsed": false
   },
   "outputs": [
    {
     "name": "stdout",
     "output_type": "stream",
     "text": [
      "['19260702', '19260701']\n"
     ]
    }
   ],
   "source": [
    "date_values = {\n",
    "  '19260701':   { 'MktRF':  0.79,\n",
    "                  'SMB':   -0.22,\n",
    "                  'HML':   -0.30,\n",
    "                  'RF':    0.009 },\n",
    "  '19260702':   { 'MktRF':  0.44,\n",
    "                  'SMB':   -0.35,\n",
    "                  'HML':   -0.08,\n",
    "                  'RF':    0.009 },\n",
    "}\n",
    "\n",
    "def byMkrRF(arg):\n",
    "    val = date_values[arg]['MktRF']\n",
    "    return val\n",
    "\n",
    "skeys = sorted(date_values, key= byMktRF)\n",
    "print skeys"
   ]
  },
  {
   "cell_type": "markdown",
   "metadata": {},
   "source": [
    "### List Comprehensions, Lambdas and Sorting Multidimensional Structures"
   ]
  },
  {
   "cell_type": "code",
   "execution_count": 185,
   "metadata": {
    "collapsed": false
   },
   "outputs": [
    {
     "name": "stdout",
     "output_type": "stream",
     "text": [
      "['Pete A. Johnson', 'Mary R. Rowe', 'Joe B. Wilson']\n"
     ]
    }
   ],
   "source": [
    "names = ['Joe B. Wilson', 'Pete A. Johnson', 'Mary R. Rowe']\n",
    "\n",
    "'''\n",
    "def bylastname(name):\n",
    "    names = name.split()\n",
    "    return names[1]\n",
    "'''\n",
    "\n",
    "## Lambda allows us to create in-line functions\n",
    "print sorted(names, key=lambda name: name.split()[2])  #  where argument is what comes after lambda"
   ]
  },
  {
   "cell_type": "code",
   "execution_count": null,
   "metadata": {
    "collapsed": true
   },
   "outputs": [],
   "source": [
    "# applied to earlier example\n",
    "'''\n",
    "def byMkrRF(arg):\n",
    "    val = date_values[arg]['MktRF']\n",
    "    return val\n",
    "skeys = sorted(date_values, key= byMktRF)\n",
    "'''\n",
    "\n",
    "sorted(date_values, key=lambda arg: date_values[arg]['MktRF'])"
   ]
  },
  {
   "cell_type": "markdown",
   "metadata": {},
   "source": [
    "### File, Directory and External Program I/O"
   ]
  },
  {
   "cell_type": "code",
   "execution_count": 195,
   "metadata": {
    "collapsed": false
   },
   "outputs": [
    {
     "name": "stdout",
     "output_type": "stream",
     "text": [
      "['.DS_Store', '.localized', 'Architecture.xlsx', 'NYU', 'TFM']\n",
      "\n",
      "['.anaconda', '.atom', '.bash_history', '.bash_profile', '.bash_sessions', '.cache', '.CFUserTextEncoding', '.continuum', '.cups', '.dropbox', '.DS_Store', '.hushlogin.', '.idlerc', '.ipynb_checkpoints', '.ipython', '.jupyter', '.matplotlib', '.neo4j', '.node_repl_history', '.npm', '.oracle_jre_usage', '.RData', '.Rhistory', '.rstudio-desktop', '.spss', '.spyder2', '.subversion', '.Trash', '55', 'AdPython_3.ipynb', 'Applications', 'Desktop', 'Documents', 'Downloads', 'Dropbox (Locus Analytics)', 'Dropbox (Personal)', 'Library', 'Locus_AD_query.ipynb', 'Movies', 'Music', 'Pictures', 'Public']\n"
     ]
    }
   ],
   "source": [
    "\n",
    "import os\n",
    "files = os.listdir('/Users/aaronwflee/Desktop')\n",
    "cd_files = os.listdir('.')\n",
    "\n",
    "print files\n",
    "print\n",
    "print cd_files"
   ]
  },
  {
   "cell_type": "code",
   "execution_count": 193,
   "metadata": {
    "collapsed": false
   },
   "outputs": [
    {
     "name": "stdout",
     "output_type": "stream",
     "text": [
      "[\"here's a line of text\\n\", 'I add the newlines explicitly if I want to write to the file\\n']\n"
     ]
    }
   ],
   "source": [
    "fh = open('new_file.txt', 'w')\n",
    "fh.write(\"here's a line of text\\n\")\n",
    "fh.write('I add the newlines explicitly if I want to write to the file\\n')\n",
    "fh.close()\n",
    "\n",
    "lines = open('new_file.txt').readlines()\n",
    "print lines\n",
    "  # [\"here's a line of text\\n\", 'I add the newlines explicitly if I want to write to the file\\n']"
   ]
  },
  {
   "cell_type": "code",
   "execution_count": 197,
   "metadata": {
    "collapsed": false
   },
   "outputs": [
    {
     "name": "stdout",
     "output_type": "stream",
     "text": [
      "('.anaconda', 102)\n",
      "('.atom', 510)\n",
      "('.bash_history', 11521)\n",
      "('.bash_profile', 73)\n",
      "('.bash_sessions', 6834)\n",
      "('.cache', 102)\n",
      "('.CFUserTextEncoding', 7)\n",
      "('.continuum', 68)\n",
      "('.cups', 102)\n",
      "('.dropbox', 374)\n",
      "('.DS_Store', 12292)\n"
     ]
    }
   ],
   "source": [
    "# getsize gets size of file/folder\n",
    "\n",
    "sdir = '/Users/aaronwflee'\n",
    "\n",
    "files = os.listdir(sdir)\n",
    "\n",
    "for i, this_file in enumerate(files):\n",
    "    filepath = os.path.join(sdir, this_file)\n",
    "    print (this_file, os.path.getsize(filepath))\n",
    "    if i == 10:\n",
    "        break"
   ]
  }
 ],
 "metadata": {
  "anaconda-cloud": {},
  "kernelspec": {
   "display_name": "Python [default]",
   "language": "python",
   "name": "python2"
  },
  "language_info": {
   "codemirror_mode": {
    "name": "ipython",
    "version": 2
   },
   "file_extension": ".py",
   "mimetype": "text/x-python",
   "name": "python",
   "nbconvert_exporter": "python",
   "pygments_lexer": "ipython2",
   "version": "2.7.12"
  }
 },
 "nbformat": 4,
 "nbformat_minor": 0
}
