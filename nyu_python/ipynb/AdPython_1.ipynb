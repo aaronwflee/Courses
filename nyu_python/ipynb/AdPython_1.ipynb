{
 "cells": [
  {
   "cell_type": "markdown",
   "metadata": {},
   "source": [
    "# 9/19/2016: Session 1\n",
    "# Objects, Types, Functions, Methods, Conditionals, Looping"
   ]
  },
  {
   "cell_type": "code",
   "execution_count": null,
   "metadata": {
    "collapsed": true
   },
   "outputs": [],
   "source": [
    "var = 'hello'\n",
    "len = 5.05\n",
    "print len(var)\n",
    "\n",
    "'''\n",
    "this returns:\n",
    "TypeError: 'float' object is not callable\n",
    "'''"
   ]
  },
  {
   "cell_type": "code",
   "execution_count": 2,
   "metadata": {
    "collapsed": false
   },
   "outputs": [
    {
     "name": "stdout",
     "output_type": "stream",
     "text": [
      "1\n"
     ]
    }
   ],
   "source": [
    "var = 3\n",
    "print var/2"
   ]
  },
  {
   "cell_type": "code",
   "execution_count": 3,
   "metadata": {
    "collapsed": false
   },
   "outputs": [
    {
     "name": "stdout",
     "output_type": "stream",
     "text": [
      "1.5\n"
     ]
    }
   ],
   "source": [
    "var = 3\n",
    "print var/float(2)"
   ]
  },
  {
   "cell_type": "code",
   "execution_count": 4,
   "metadata": {
    "collapsed": false
   },
   "outputs": [
    {
     "name": "stdout",
     "output_type": "stream",
     "text": [
      "1.5\n"
     ]
    }
   ],
   "source": [
    "var = 3\n",
    "print var/2."
   ]
  },
  {
   "cell_type": "code",
   "execution_count": 6,
   "metadata": {
    "collapsed": false
   },
   "outputs": [
    {
     "name": "stdout",
     "output_type": "stream",
     "text": [
      "hello, world!\n"
     ]
    }
   ],
   "source": [
    "kk = 'hello, '\n",
    "rr = 'world!'\n",
    "\n",
    "mm = kk + rr\n",
    "print mm"
   ]
  },
  {
   "cell_type": "code",
   "execution_count": 11,
   "metadata": {
    "collapsed": false,
    "scrolled": true
   },
   "outputs": [
    {
     "name": "stdout",
     "output_type": "stream",
     "text": [
      "[0, 1, 4, 9, 16, 25, 36, 49, 64, 81]\n"
     ]
    }
   ],
   "source": [
    "print [x**2 for x in range(10)]"
   ]
  },
  {
   "cell_type": "code",
   "execution_count": 12,
   "metadata": {
    "collapsed": false
   },
   "outputs": [
    {
     "name": "stdout",
     "output_type": "stream",
     "text": [
      "(15, 15)\n"
     ]
    }
   ],
   "source": [
    "x = 5\n",
    "y = 10\n",
    "\n",
    "var1 = x + y\n",
    "var2 = x.__add__(y)\n",
    "\n",
    "#\n",
    "\n",
    "print(var1, var2)"
   ]
  },
  {
   "cell_type": "code",
   "execution_count": null,
   "metadata": {
    "collapsed": true
   },
   "outputs": [],
   "source": [
    "## FUNCTIONS"
   ]
  },
  {
   "cell_type": "code",
   "execution_count": 13,
   "metadata": {
    "collapsed": false
   },
   "outputs": [
    {
     "data": {
      "text/plain": [
       "13"
      ]
     },
     "execution_count": 13,
     "metadata": {},
     "output_type": "execute_result"
    }
   ],
   "source": [
    "len(\"hello, world!\")"
   ]
  },
  {
   "cell_type": "code",
   "execution_count": 29,
   "metadata": {
    "collapsed": false
   },
   "outputs": [
    {
     "name": "stdout",
     "output_type": "stream",
     "text": [
      "5.0 5.0\n",
      "5.1 5.0\n",
      "5.2 5.0\n",
      "5.3 5.0\n",
      "5.4 5.0\n",
      "5.5 5.0\n",
      "5.6 6.0\n",
      "5.7 6.0\n",
      "5.8 6.0\n",
      "5.9 6.0\n",
      "6.0 6.0\n"
     ]
    }
   ],
   "source": [
    "import numpy as np\n",
    "for i in np.arange(5,6.1,0.1):\n",
    "    print i, round(i)"
   ]
  },
  {
   "cell_type": "code",
   "execution_count": 31,
   "metadata": {
    "collapsed": false
   },
   "outputs": [
    {
     "name": "stdout",
     "output_type": "stream",
     "text": [
      "\n"
     ]
    }
   ],
   "source": [
    "aa = raw_input()\n",
    "if aa == 'q':\n",
    "    exit(0)                         # indicates a natural termination\n",
    "\n",
    "if aa == '':                        # user typed nothing and hit [Return]\n",
    "    exit('error:  input required')  # indicates an error led to termination"
   ]
  },
  {
   "cell_type": "code",
   "execution_count": 33,
   "metadata": {
    "collapsed": false
   },
   "outputs": [
    {
     "name": "stdout",
     "output_type": "stream",
     "text": [
      "<type 'int'>\n",
      "<type 'float'>\n",
      "<type 'str'>\n",
      "<type 'type'>\n"
     ]
    }
   ],
   "source": [
    "aa = 5\n",
    "bb = 5.5\n",
    "cc = 'hello'\n",
    "\n",
    "print type(aa)    # <type 'int'>\n",
    "print type(bb)    # <type 'float'>\n",
    "print type(cc)    # <type 'str'>\n",
    "print type(type(cc))  #   <type 'type'>\n",
    "\n",
    "## can convert using int(), float(), str()"
   ]
  },
  {
   "cell_type": "code",
   "execution_count": 34,
   "metadata": {
    "collapsed": false
   },
   "outputs": [
    {
     "ename": "SyntaxError",
     "evalue": "EOL while scanning string literal (<ipython-input-34-7f1f2685aff4>, line 4)",
     "output_type": "error",
     "traceback": [
      "\u001b[0;36m  File \u001b[0;32m\"<ipython-input-34-7f1f2685aff4>\"\u001b[0;36m, line \u001b[0;32m4\u001b[0m\n\u001b[0;31m    var2 = 'World!\u001b[0m\n\u001b[0m                 ^\u001b[0m\n\u001b[0;31mSyntaxError\u001b[0m\u001b[0;31m:\u001b[0m EOL while scanning string literal\n"
     ]
    }
   ],
   "source": [
    "## EXCEPTIONS\n",
    "\n",
    "var1 = 'Hello, '\n",
    "var2 = 'World!\n",
    "var3 = var1 + var2\n",
    "print var3"
   ]
  },
  {
   "cell_type": "code",
   "execution_count": 35,
   "metadata": {
    "collapsed": false
   },
   "outputs": [
    {
     "data": {
      "text/plain": [
       "5.551115123125783e-17"
      ]
     },
     "execution_count": 35,
     "metadata": {},
     "output_type": "execute_result"
    }
   ],
   "source": [
    "0.1 + 0.1 + 0.1 - 0.3"
   ]
  },
  {
   "cell_type": "markdown",
   "metadata": {},
   "source": [
    "# Conditionals"
   ]
  },
  {
   "cell_type": "code",
   "execution_count": 44,
   "metadata": {
    "collapsed": false
   },
   "outputs": [
    {
     "data": {
      "text/plain": [
       "False"
      ]
     },
     "execution_count": 44,
     "metadata": {},
     "output_type": "execute_result"
    }
   ],
   "source": [
    "## == not same as \"is\"; \"is\" refers to immutable object\n",
    "x = [1, 2, 3]\n",
    "y = [1, 2, 3]\n",
    "\n",
    "x is y"
   ]
  },
  {
   "cell_type": "code",
   "execution_count": 50,
   "metadata": {
    "collapsed": false
   },
   "outputs": [
    {
     "name": "stdout",
     "output_type": "stream",
     "text": [
      "Good!\n",
      "Better!\n"
     ]
    }
   ],
   "source": [
    "if (1 + 1 == 2) & (1*1 == 1):\n",
    "    print \"Good!\"\n",
    "if 1 + 1 == 2 and 1*1 == 1:\n",
    "    print \"Better!\"\n",
    "if 1 + 1 == 2 & 1*1 == 1:\n",
    "    print \"Best!\""
   ]
  },
  {
   "cell_type": "code",
   "execution_count": 51,
   "metadata": {
    "collapsed": false
   },
   "outputs": [
    {
     "name": "stdout",
     "output_type": "stream",
     "text": [
      "2\n",
      "4\n",
      "6\n",
      "8\n",
      "10\n"
     ]
    }
   ],
   "source": [
    "x = 0\n",
    "while x < 10:\n",
    "    x = x +1\n",
    "    if x % 2 != 0:\n",
    "        continue\n",
    "    print x"
   ]
  },
  {
   "cell_type": "markdown",
   "metadata": {},
   "source": [
    "# Object Methods"
   ]
  },
  {
   "cell_type": "code",
   "execution_count": 53,
   "metadata": {
    "collapsed": false
   },
   "outputs": [
    {
     "name": "stdout",
     "output_type": "stream",
     "text": [
      "5 10 20 30\n",
      "my age is 29\n"
     ]
    }
   ],
   "source": [
    "print 5, 10 , 20, 30\n",
    "print 'my age is', 29"
   ]
  },
  {
   "cell_type": "code",
   "execution_count": 59,
   "metadata": {
    "collapsed": false
   },
   "outputs": [
    {
     "name": "stdout",
     "output_type": "stream",
     "text": [
      "4\n",
      "4\n",
      "25.0 % of the letters start in that string are a\n"
     ]
    }
   ],
   "source": [
    "letters = \"aabbcdefgafbdchabacc\"\n",
    "\n",
    "varb = letters.count(\"a\")    # print 5, number of times \"a\"\n",
    "                             # appears in letters\n",
    "\n",
    "vara = len(letters)          # assign integer object 20 to \n",
    "                             # new label length\n",
    "\n",
    "varc = vara / varb           # 20 / 5, or .25, the percentage of a's in the string\n",
    "\n",
    "\n",
    "print varc\n",
    "\n",
    "print len(letters) / letters.count(\"a\")   # the above lines combined\n",
    "\n",
    "\n",
    "print float(letters.count(\"a\")) / len(letters) * 100, '% of the letters start in that string are a'    # 25\n",
    "\n",
    "# the above line adds one more calcluation:  \n",
    "# the whole-number percentage of a's in this string"
   ]
  },
  {
   "cell_type": "markdown",
   "metadata": {},
   "source": [
    "# Sequences: Strings, Lists, Files"
   ]
  },
  {
   "cell_type": "code",
   "execution_count": null,
   "metadata": {
    "collapsed": false
   },
   "outputs": [],
   "source": [
    "# get sum of values from a csv table (e.g., third column)\n",
    "\n",
    "fh = open('mytabular.txt')\n",
    "\n",
    "floatsum = 0.0\n",
    "\n",
    "for line in fh:\n",
    "    items = line.split(',')\n",
    "    value = items[2]\n",
    "    floatval = float(value)\n",
    "    floatsum = floatsum + floatval\n",
    "    \n",
    "print 'the sum is {}'.format(floatsum)"
   ]
  },
  {
   "cell_type": "code",
   "execution_count": 62,
   "metadata": {
    "collapsed": false
   },
   "outputs": [
    {
     "name": "stdout",
     "output_type": "stream",
     "text": [
      "world\n"
     ]
    }
   ],
   "source": [
    "mystring = 'hello world!'\n",
    "myslice = mystring[6:11]; print myslice"
   ]
  },
  {
   "cell_type": "code",
   "execution_count": null,
   "metadata": {
    "collapsed": true
   },
   "outputs": [],
   "source": []
  },
  {
   "cell_type": "code",
   "execution_count": null,
   "metadata": {
    "collapsed": true
   },
   "outputs": [],
   "source": []
  }
 ],
 "metadata": {
  "anaconda-cloud": {},
  "kernelspec": {
   "display_name": "Python [conda root]",
   "language": "python",
   "name": "conda-root-py"
  },
  "language_info": {
   "codemirror_mode": {
    "name": "ipython",
    "version": 2
   },
   "file_extension": ".py",
   "mimetype": "text/x-python",
   "name": "python",
   "nbconvert_exporter": "python",
   "pygments_lexer": "ipython2",
   "version": "2.7.12"
  }
 },
 "nbformat": 4,
 "nbformat_minor": 0
}
