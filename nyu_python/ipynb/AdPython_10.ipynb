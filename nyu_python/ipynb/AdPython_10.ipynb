{
 "cells": [
  {
   "cell_type": "markdown",
   "metadata": {},
   "source": [
    "# Session 10: 11/28/2016\n",
    "# Regular Expressions II, Profiling, Big O"
   ]
  },
  {
   "cell_type": "markdown",
   "metadata": {},
   "source": [
    "### keyword args"
   ]
  },
  {
   "cell_type": "code",
   "execution_count": 2,
   "metadata": {
    "collapsed": false
   },
   "outputs": [
    {
     "name": "stdout",
     "output_type": "stream",
     "text": [
      "(5, 10, 11, 'hello')\n",
      "{'this': 10, 'that': 20}\n"
     ]
    }
   ],
   "source": [
    "def myfunc(arg1, arg2):\n",
    "    pass\n",
    "\n",
    "myfunc(5,10)\n",
    "\n",
    "def yourfunc(arg1, num=0):\n",
    "    pass\n",
    "\n",
    "yourfunc(5)\n",
    "yourfunc(5, num=10)\n",
    "\n",
    "def thisfunc(*args): # where * means you can pass any number of arguments\n",
    "    print args # a tuple\n",
    "thisfunc(5,10,11,'hello') # (5, 10, 11, 'hello')\n",
    "    \n",
    "def thatfunc(**kwargs):\n",
    "    print kwargs # a dictionary\n",
    "thatfunc(this=10, that=20) # {'this':10, 'that':20}"
   ]
  },
  {
   "cell_type": "markdown",
   "metadata": {},
   "source": [
    "## Regular Expressions"
   ]
  },
  {
   "cell_type": "code",
   "execution_count": 5,
   "metadata": {
    "collapsed": false
   },
   "outputs": [
    {
     "name": "stdout",
     "output_type": "stream",
     "text": [
      "['There', 'are', 'seven', 'words', 'in', 'this', 'sentence']\n",
      "<_sre.SRE_Match object at 0x104559100>\n"
     ]
    }
   ],
   "source": [
    "import re\n",
    "# as opposed to re.search, re.findall keeps going after it finds the first one\n",
    "text = \"There are seven words in this sentence\";\n",
    "words = re.findall(r'\\w+', text)\n",
    "words2 = re.search(r'\\w+', text)\n",
    "print words  # ['There', 'are', 'seven', 'words', 'in', 'this', 'sentence']\n",
    "print words2"
   ]
  },
  {
   "cell_type": "code",
   "execution_count": 7,
   "metadata": {
    "collapsed": false
   },
   "outputs": [
    {
     "name": "stdout",
     "output_type": "stream",
     "text": [
      "\n",
      "this is some text that we do want.\n",
      "the extracted text should continue,\n",
      "including just about any character,\n",
      "until we get to\n",
      "\n"
     ]
    }
   ],
   "source": [
    "# use wildcard . to get target text (like PCR)\n",
    "# search file sample.txt\n",
    "\n",
    "text = '''\n",
    "some text we don't want\n",
    "==start text==\n",
    "this is some text that we do want.\n",
    "the extracted text should continue,\n",
    "including just about any character,\n",
    "until we get to\n",
    "==end text==\n",
    "other text we don't want\n",
    "'''\n",
    "# python script:\n",
    "import re\n",
    "# text = open('sample.txt').read()\n",
    "matchobj = re.search(r'==start text==(.+)==end text==', text, re.DOTALL)\n",
    "print matchobj.group(1)"
   ]
  },
  {
   "cell_type": "code",
   "execution_count": null,
   "metadata": {
    "collapsed": true
   },
   "outputs": [],
   "source": [
    "def sum_fieldnum(filename, fieldnum, delim):\n",
    "    this_sum = 0.0\n",
    "    fh = open(filename)\n",
    "    for line in fh:\n",
    "        items = line.split(delim)\n",
    "        value = float(items[fieldnum])\n",
    "        this_sum = this_sum + value\n",
    "    fh.close()\n",
    "    return this_sum"
   ]
  },
  {
   "cell_type": "markdown",
   "metadata": {},
   "source": [
    "### Algorithms\n",
    "e.g., to find sum of all numbers up to a maximum n"
   ]
  },
  {
   "cell_type": "code",
   "execution_count": 9,
   "metadata": {
    "collapsed": false
   },
   "outputs": [
    {
     "name": "stdout",
     "output_type": "stream",
     "text": [
      "55\n"
     ]
    }
   ],
   "source": [
    "# RANGE\n",
    "def sum_of_n_range(n):\n",
    "    total = 0\n",
    "    for i in range(1,n+1):\n",
    "        total = total + i\n",
    "    return total\n",
    "\n",
    "print sum_of_n_range(10)"
   ]
  },
  {
   "cell_type": "code",
   "execution_count": 10,
   "metadata": {
    "collapsed": false
   },
   "outputs": [
    {
     "name": "stdout",
     "output_type": "stream",
     "text": [
      "55\n"
     ]
    }
   ],
   "source": [
    "# RECURSION\n",
    "def sum_of_n_recursive(total, count, this_max):\n",
    "    total = total + count\n",
    "    count += 1\n",
    "    if count > this_max:\n",
    "        return total \n",
    "    return sum_of_n_recursive(total, count, this_max)\n",
    "\n",
    "print sum_of_n_recursive(0, 0, 10)"
   ]
  },
  {
   "cell_type": "code",
   "execution_count": 11,
   "metadata": {
    "collapsed": false
   },
   "outputs": [
    {
     "name": "stdout",
     "output_type": "stream",
     "text": [
      "55\n"
     ]
    }
   ],
   "source": [
    "# FORMULA\n",
    "def sum_of_n_formula(n):\n",
    "    return (n * (n + 1)) / 2\n",
    "\n",
    "print sum_of_n_formula(10)"
   ]
  },
  {
   "cell_type": "code",
   "execution_count": 13,
   "metadata": {
    "collapsed": false
   },
   "outputs": [
    {
     "name": "stdout",
     "output_type": "stream",
     "text": [
      "('Splitting ', [54, 26, 93, 17, 77, 31, 44, 55, 20])\n",
      "('Splitting ', [54, 26, 93, 17])\n",
      "('Splitting ', [54, 26])\n",
      "('Splitting ', [54])\n",
      "('Merging ', [54])\n",
      "('Splitting ', [26])\n",
      "('Merging ', [26])\n",
      "('Merging ', [26, 54])\n",
      "('Splitting ', [93, 17])\n",
      "('Splitting ', [93])\n",
      "('Merging ', [93])\n",
      "('Splitting ', [17])\n",
      "('Merging ', [17])\n",
      "('Merging ', [17, 93])\n",
      "('Merging ', [17, 26, 54, 93])\n",
      "('Splitting ', [77, 31, 44, 55, 20])\n",
      "('Splitting ', [77, 31])\n",
      "('Splitting ', [77])\n",
      "('Merging ', [77])\n",
      "('Splitting ', [31])\n",
      "('Merging ', [31])\n",
      "('Merging ', [31, 77])\n",
      "('Splitting ', [44, 55, 20])\n",
      "('Splitting ', [44])\n",
      "('Merging ', [44])\n",
      "('Splitting ', [55, 20])\n",
      "('Splitting ', [55])\n",
      "('Merging ', [55])\n",
      "('Splitting ', [20])\n",
      "('Merging ', [20])\n",
      "('Merging ', [20, 55])\n",
      "('Merging ', [20, 44, 55])\n",
      "('Merging ', [20, 31, 44, 55, 77])\n",
      "('Merging ', [17, 20, 26, 31, 44, 54, 55, 77, 93])\n",
      "[17, 20, 26, 31, 44, 54, 55, 77, 93]\n"
     ]
    }
   ],
   "source": [
    "def merge_sort(a_list):\n",
    "    print(\"Splitting \", a_list)\n",
    "    if len(a_list) > 1:\n",
    "        mid = len(a_list) / 2      # (int/int, so lop off any remainder)\n",
    "        left_half = a_list[:mid]\n",
    "        right_half = a_list[mid:]\n",
    "\n",
    "        merge_sort(left_half)\n",
    "        merge_sort(right_half)\n",
    "\n",
    "        i = 0\n",
    "        j = 0\n",
    "        k = 0\n",
    "\n",
    "        while i < len(left_half) and j < len(right_half):\n",
    "            if left_half[i] < right_half[j]:\n",
    "                a_list[k] = left_half[i]\n",
    "                i = i + 1\n",
    "            else:\n",
    "                a_list[k] = right_half[j]\n",
    "                j = j + 1\n",
    "            k = k + 1\n",
    "\n",
    "        while i < len(left_half):\n",
    "                a_list[k] = left_half[i]\n",
    "                i = i + 1\n",
    "                k = k + 1\n",
    "\n",
    "        while j < len(right_half):\n",
    "                a_list[k] = right_half[j]\n",
    "                j = j + 1\n",
    "                k = k + 1\n",
    "    print(\"Merging \", a_list)\n",
    "\n",
    "a_list = [54, 26, 93, 17, 77, 31, 44, 55, 20]\n",
    "merge_sort(a_list)\n",
    "print a_list "
   ]
  },
  {
   "cell_type": "code",
   "execution_count": null,
   "metadata": {
    "collapsed": false
   },
   "outputs": [],
   "source": []
  },
  {
   "cell_type": "code",
   "execution_count": null,
   "metadata": {
    "collapsed": true
   },
   "outputs": [],
   "source": []
  },
  {
   "cell_type": "code",
   "execution_count": null,
   "metadata": {
    "collapsed": true
   },
   "outputs": [],
   "source": []
  },
  {
   "cell_type": "code",
   "execution_count": null,
   "metadata": {
    "collapsed": true
   },
   "outputs": [],
   "source": []
  },
  {
   "cell_type": "code",
   "execution_count": null,
   "metadata": {
    "collapsed": true
   },
   "outputs": [],
   "source": []
  }
 ],
 "metadata": {
  "anaconda-cloud": {},
  "kernelspec": {
   "display_name": "Python [conda root]",
   "language": "python",
   "name": "conda-root-py"
  },
  "language_info": {
   "codemirror_mode": {
    "name": "ipython",
    "version": 2
   },
   "file_extension": ".py",
   "mimetype": "text/x-python",
   "name": "python",
   "nbconvert_exporter": "python",
   "pygments_lexer": "ipython2",
   "version": "2.7.12"
  }
 },
 "nbformat": 4,
 "nbformat_minor": 1
}
