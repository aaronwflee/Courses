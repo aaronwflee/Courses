{
 "cells": [
  {
   "cell_type": "markdown",
   "metadata": {},
   "source": [
    "# 10/24/2016: Session 5\n",
    "# Classes, Data Model"
   ]
  },
  {
   "cell_type": "code",
   "execution_count": null,
   "metadata": {
    "collapsed": true
   },
   "outputs": [],
   "source": [
    "list_formats = ['%Y-%m-%d', '%m/%d/%y']\n",
    "\n",
    "for format_item in list_formats:\n",
    "    try:\n",
    "        d_date = datetime.datetime.strptime(d,format_item).date()\n",
    "        break\n",
    "    except ValueError:\n",
    "        continue\n",
    "        \n",
    "try:\n",
    "    return d_date\n",
    "except UnboundLocalError:\n",
    "    print 'Wrong Format entered'"
   ]
  },
  {
   "cell_type": "markdown",
   "metadata": {},
   "source": [
    "## 5.l Classes"
   ]
  },
  {
   "cell_type": "markdown",
   "metadata": {},
   "source": [
    "Objects"
   ]
  },
  {
   "cell_type": "code",
   "execution_count": 1,
   "metadata": {
    "collapsed": false
   },
   "outputs": [
    {
     "name": "stdout",
     "output_type": "stream",
     "text": [
      "hello, user!\n",
      "<class '__main__.Greeting'>\n"
     ]
    }
   ],
   "source": [
    "# example of class\n",
    "# Caps are reserved for classes\n",
    "\n",
    "class Greeting(object): # class Random_name(object) <- object is key!\n",
    "    \"\"\" greets the user \"\"\"\n",
    "\n",
    "    def greet(self):\n",
    "        print 'hello, user!'\n",
    "\n",
    "\n",
    "c = Greeting()\n",
    "\n",
    "c.greet()                    # hello, user!\n",
    "\n",
    "print type(c)                # <class '__main__.Greeting'>"
   ]
  },
  {
   "cell_type": "code",
   "execution_count": 4,
   "metadata": {
    "collapsed": true
   },
   "outputs": [],
   "source": [
    "class Me(object):\n",
    "    pass # Python expects something for class, else indent error\n",
    "    ''' could also have a doc string like this to create documentation '''\n",
    "\n",
    "class Do(object):\n",
    "    ''' class that does basically nothing'''\n",
    "    a = 5\n",
    "    \n",
    "dd = Do()\n",
    "x = int('5')"
   ]
  },
  {
   "cell_type": "code",
   "execution_count": 6,
   "metadata": {
    "collapsed": false
   },
   "outputs": [
    {
     "name": "stdout",
     "output_type": "stream",
     "text": [
      "<__main__.Do object at 0x1061dca10>\n"
     ]
    }
   ],
   "source": [
    "print dd"
   ]
  },
  {
   "cell_type": "code",
   "execution_count": 16,
   "metadata": {
    "collapsed": false
   },
   "outputs": [],
   "source": [
    "# becomes an attribute dictionary\n",
    "dd.xxx = 'hey!'\n",
    "dd.y = 5.05\n",
    "dd.zz = 50000"
   ]
  },
  {
   "cell_type": "code",
   "execution_count": 17,
   "metadata": {
    "collapsed": false
   },
   "outputs": [
    {
     "data": {
      "text/plain": [
       "{'xxx': 'hey!', 'y': 5.05, 'zz': 50000}"
      ]
     },
     "execution_count": 17,
     "metadata": {},
     "output_type": "execute_result"
    }
   ],
   "source": [
    "dd.__dict__"
   ]
  },
  {
   "cell_type": "code",
   "execution_count": 18,
   "metadata": {
    "collapsed": true
   },
   "outputs": [],
   "source": [
    "dd.__dict__['y'] = 6.05"
   ]
  },
  {
   "cell_type": "code",
   "execution_count": 19,
   "metadata": {
    "collapsed": false
   },
   "outputs": [
    {
     "data": {
      "text/plain": [
       "{'xxx': 'hey!', 'y': 6.05, 'zz': 50000}"
      ]
     },
     "execution_count": 19,
     "metadata": {},
     "output_type": "execute_result"
    }
   ],
   "source": [
    "dd.__dict__"
   ]
  },
  {
   "cell_type": "code",
   "execution_count": 21,
   "metadata": {
    "collapsed": false
   },
   "outputs": [
    {
     "data": {
      "text/plain": [
       "2"
      ]
     },
     "execution_count": 21,
     "metadata": {},
     "output_type": "execute_result"
    }
   ],
   "source": [
    "# alternatively, could easily manipulate an object's dictionary\n",
    "# for example, replace with existing dictionary\n",
    "mydict = {'a':1, 'b':2, 'c':3, 'd':4}\n",
    "dd.__dict__ = mydict\n",
    "dd.b"
   ]
  },
  {
   "cell_type": "code",
   "execution_count": 27,
   "metadata": {
    "collapsed": false
   },
   "outputs": [
    {
     "name": "stdout",
     "output_type": "stream",
     "text": [
      "[1, 2, 3, 4, 5]\n"
     ]
    }
   ],
   "source": [
    "# other than dictionaries, can also save data (lists, etc).\n",
    "class Something(object):\n",
    "    \"\"\" just makes 'Something' objects \"\"\"\n",
    "\n",
    "obj1 = Something()\n",
    "obj2 = Something()\n",
    "\n",
    "obj1.var = 5\n",
    "obj2.var = [1,2,3,4]\n",
    "\n",
    "obj2.var.append(5)\n",
    "print obj2.var"
   ]
  },
  {
   "cell_type": "code",
   "execution_count": 47,
   "metadata": {
    "collapsed": false
   },
   "outputs": [
    {
     "name": "stdout",
     "output_type": "stream",
     "text": [
      "a: [1, 2, 3, 4, 5]\n",
      "__dict__: <attribute '__dict__' of 'Do' objects>\n",
      "__module__: __main__\n",
      "__weakref__: <attribute '__weakref__' of 'Do' objects>\n",
      "__doc__: this class does something\n"
     ]
    },
    {
     "data": {
      "text/plain": [
       "'\\nobjects have dictionary of attributes\\napart from objects stored, also has module, doc, weakref\\n'"
      ]
     },
     "execution_count": 47,
     "metadata": {},
     "output_type": "execute_result"
    }
   ],
   "source": [
    "import pprint\n",
    "class Do(object):\n",
    "    '''this class does something'''\n",
    "    a = [1,2,3,4,5]\n",
    "\n",
    "for key, val in Do.__dict__.items():\n",
    "    print '{}: {}'.format(key, val)\n",
    "    \n",
    "    \n",
    "'''\n",
    "objects have dictionary of attributes\n",
    "apart from objects stored, also has module, doc, weakref\n",
    "'''"
   ]
  },
  {
   "cell_type": "code",
   "execution_count": 48,
   "metadata": {
    "collapsed": false
   },
   "outputs": [
    {
     "data": {
      "text/plain": [
       "[1, 2, 3, 4, 5]"
      ]
     },
     "execution_count": 48,
     "metadata": {},
     "output_type": "execute_result"
    }
   ],
   "source": [
    "cc = Do()\n",
    "\n",
    "for key, val in cc.__dict__.items():\n",
    "    print '{}: {}'.format(key, val)\n",
    "\n",
    "''' not the original class, dictionary isn't carried over\n",
    "can access through attributes '''\n",
    "\n",
    "cc.a"
   ]
  },
  {
   "cell_type": "code",
   "execution_count": 63,
   "metadata": {
    "collapsed": false
   },
   "outputs": [
    {
     "name": "stdout",
     "output_type": "stream",
     "text": [
      "500\n"
     ]
    }
   ],
   "source": [
    "# import pprint\n",
    "class Do(object):\n",
    "    a = 5\n",
    "    \n",
    "cc = Do()\n",
    "cc.a = 500\n",
    "\n",
    "print cc.a"
   ]
  },
  {
   "cell_type": "code",
   "execution_count": 65,
   "metadata": {
    "collapsed": false
   },
   "outputs": [
    {
     "data": {
      "text/plain": [
       "5"
      ]
     },
     "execution_count": 65,
     "metadata": {},
     "output_type": "execute_result"
    }
   ],
   "source": [
    "''' if cannot find attribute from second class,\n",
    "looks at original class object '''\n",
    "\n",
    "del(cc.a) # deletes assigned value of a\n",
    "cc.a #returns the a from original object"
   ]
  },
  {
   "cell_type": "code",
   "execution_count": 55,
   "metadata": {
    "collapsed": false
   },
   "outputs": [
    {
     "name": "stdout",
     "output_type": "stream",
     "text": [
      "'int' object is not callable\n",
      "5\n"
     ]
    }
   ],
   "source": [
    "# as an aside\n",
    "\n",
    "len = 5\n",
    "try:\n",
    "    print len('hello')\n",
    "except TypeError:\n",
    "    print \"'int' object is not callable\"\n",
    "    \n",
    "# del() reassigns to default because it deletes the overwrite\n",
    "del(len); print len('hello')"
   ]
  },
  {
   "cell_type": "markdown",
   "metadata": {},
   "source": [
    "### Instance Methods"
   ]
  },
  {
   "cell_type": "code",
   "execution_count": 76,
   "metadata": {
    "collapsed": false
   },
   "outputs": [
    {
     "name": "stdout",
     "output_type": "stream",
     "text": [
      "<__main__.Do object at 0x1063ef490>\n",
      "<__main__.Do object at 0x1063ef490>\n"
     ]
    }
   ],
   "source": [
    "class Do(object):\n",
    "    def printme(self):\n",
    "        print self\n",
    "\n",
    "x = Do()\n",
    "\n",
    "print x                 # <__main__.Do object at 0x10636f950>\n",
    "x.printme() \n",
    "\n",
    "'''\n",
    "x and self have the same hex code.\n",
    "This indicates that they are the very same object.\n",
    "You can also confirm this by passing each object to the id() function.  \n",
    "'''"
   ]
  },
  {
   "cell_type": "code",
   "execution_count": 91,
   "metadata": {
    "collapsed": false
   },
   "outputs": [
    {
     "name": "stdout",
     "output_type": "stream",
     "text": [
      "   x: 4399815952\n",
      "self: 4399815952\n",
      "\n",
      "x.var:  2\n",
      "y.var:  1\n"
     ]
    }
   ],
   "source": [
    "class Do(object):\n",
    "    def dothis(self):\n",
    "        print 'self:', id(self)\n",
    "    def increment(self):\n",
    "        self.var = self.var + 1\n",
    "\n",
    "x = Do()\n",
    "print '   x:', id(x)\n",
    "x.dothis()\n",
    "\n",
    "x.var = 0\n",
    "x.increment()\n",
    "x.increment()\n",
    "\n",
    "y = Do()\n",
    "y.var = 0\n",
    "y.increment()\n",
    "\n",
    "print\n",
    "print 'x.var: ', x.var\n",
    "print 'y.var: ', y.var"
   ]
  },
  {
   "cell_type": "markdown",
   "metadata": {},
   "source": [
    "### initializer\n",
    "we shouldn't have to initialize/create var outside of each class object"
   ]
  },
  {
   "cell_type": "code",
   "execution_count": 2,
   "metadata": {
    "collapsed": false
   },
   "outputs": [
    {
     "name": "stdout",
     "output_type": "stream",
     "text": [
      "initializing object:  <__main__.Do object at 0x1045e01d0>\n",
      "initializing object:  <__main__.Do object at 0x1045e0110>\n",
      "\n",
      "x.var:  2\n",
      "y.var:  1\n"
     ]
    }
   ],
   "source": [
    "class Do(object):\n",
    "    def __init__(self):\n",
    "        print 'initializing object: ', self\n",
    "        self.var = 0\n",
    "    def increment(self):\n",
    "        self.var = self.var + 1\n",
    "\n",
    "x = Do()\n",
    "#x.var = 0 ## no longer needed\n",
    "x.increment()\n",
    "x.increment()\n",
    "\n",
    "y = Do()\n",
    "#y.var = 0 ## no longer needed\n",
    "y.increment()\n",
    "\n",
    "print\n",
    "print 'x.var: ', x.var\n",
    "print 'y.var: ', y.var"
   ]
  },
  {
   "cell_type": "code",
   "execution_count": null,
   "metadata": {
    "collapsed": false
   },
   "outputs": [],
   "source": [
    "class MyCounter(object):\n",
    "    def __init__(self, initval):   # self is implied 1st argument (the instance) \n",
    "        try:\n",
    "          initval = int(initval)     # test initval to be an int,\n",
    "        except ValueError:           # set to 0 if incorrect\n",
    "          initval = 0\n",
    "        self.value = initval         # initval was passed to the constructor\n",
    "\n",
    "    def increment_val(self):\n",
    "        self.value = self.value + 1\n",
    "\n",
    "x = Do() # init gets called at this point (self is created)\n",
    "y = Do() # y has a different hex code because self has already been made"
   ]
  },
  {
   "cell_type": "markdown",
   "metadata": {
    "collapsed": true
   },
   "source": [
    "\n",
    "### Classes can be organized into an inheritance structure\n",
    "When a class inherits from another class, attribute lookups can pass to the parent class when accessed from the child.  "
   ]
  },
  {
   "cell_type": "code",
   "execution_count": 8,
   "metadata": {
    "collapsed": false
   },
   "outputs": [
    {
     "name": "stdout",
     "output_type": "stream",
     "text": [
      "Rover eats wood\n",
      "Atilla:  snif - snif - snif - nah...\n"
     ]
    }
   ],
   "source": [
    "# dogs and cats can take all the attributes of \"Animal\" since they are subclasses\n",
    "# can create deviations specific to each subclass\n",
    "\n",
    "class Animal(object):\n",
    "    def __init__(self, name):\n",
    "        self.name = name\n",
    "    def eat(self, food):\n",
    "        print '%s eats %s' % (self.name, food)\n",
    "\n",
    "class Dog(Animal):\n",
    "    def fetch(self, thing):\n",
    "        print '%s goes after the %s!' % (self.name, thing)\n",
    "\n",
    "class Cat(Animal):\n",
    "    def swatstring(self):\n",
    "        print '%s shreds the string!' % (self.name)\n",
    "    def eat(self, food):\n",
    "        if food in ['cat food', 'fish', 'chicken']:\n",
    "            print '%s eats the %s' % (self.name, food)\n",
    "        else:\n",
    "            print '%s:  snif - snif - snif - nah...' % self.name\n",
    "\n",
    "d = Dog('Rover')\n",
    "c = Cat('Atilla')\n",
    "\n",
    "d.eat('wood')                 # Rover eats wood  # if no attribute, goes to parent object\n",
    "c.eat('dog food')             # Atilla:  snif - snif - snif - nah..."
   ]
  },
  {
   "cell_type": "code",
   "execution_count": 22,
   "metadata": {
    "collapsed": false
   },
   "outputs": [
    {
     "name": "stdout",
     "output_type": "stream",
     "text": [
      " nothing in x's dictionary: {}\n",
      "\n",
      " can access through dir: ['Alsoa', '__class__', '__delattr__', '__dict__', '__doc__', '__format__', '__getattribute__', '__hash__', '__init__', '__module__', '__new__', '__reduce__', '__reduce_ex__', '__repr__', '__setattr__', '__sizeof__', '__str__', '__subclasshook__', '__weakref__', 'doa']\n",
      "\n",
      " as well as dict of object itself: ['__setattr__', '__reduce_ex__', '__new__', '__reduce__', '__str__', '__format__', '__getattribute__', '__class__', '__delattr__', '__subclasshook__', '__repr__', '__hash__', '__sizeof__', '__doc__', '__init__']\n"
     ]
    }
   ],
   "source": [
    "# another example\n",
    "\n",
    "class Do(object):\n",
    "    doa = 5\n",
    "\n",
    "class Also(Do):\n",
    "    Alsoa = 1000\n",
    "\n",
    "x = Also()\n",
    "\n",
    "print \" nothing in x's dictionary:\", x.__dict__\n",
    "print \"\\n can access through dir:\", dir(x)\n",
    "print '\\n as well as dict of object itself:', object.__dict__.keys()"
   ]
  },
  {
   "cell_type": "code",
   "execution_count": 25,
   "metadata": {
    "collapsed": false
   },
   "outputs": [
    {
     "name": "stdout",
     "output_type": "stream",
     "text": [
      "15\n",
      "15\n",
      "1\n",
      "1\n"
     ]
    }
   ],
   "source": [
    "# mathematical operations\n",
    "var = 5\n",
    "var2 = 10\n",
    "print var + var2\n",
    "print var.__add__(var2)\n",
    "\n",
    "# list indexing/subscripting\n",
    "mylist = [1,2,3]\n",
    "print mylist[0]\n",
    "print mylist.__getitem__(0)"
   ]
  },
  {
   "cell_type": "code",
   "execution_count": 36,
   "metadata": {
    "collapsed": false
   },
   "outputs": [
    {
     "name": "stdout",
     "output_type": "stream",
     "text": [
      "['__add__', '__class__', '__contains__', '__delattr__', '__doc__', '__eq__', '__format__', '__ge__', '__getattribute__', '__getitem__', '__getnewargs__', '__getslice__', '__gt__', '__hash__', '__init__', '__le__', '__len__', '__lt__', '__mod__', '__mul__', '__ne__', '__new__', '__reduce__', '__reduce_ex__', '__repr__', '__rmod__', '__rmul__', '__setattr__', '__sizeof__', '__str__', '__subclasshook__', '_formatter_field_name_split', '_formatter_parser', 'capitalize', 'center', 'count', 'decode', 'encode', 'endswith', 'expandtabs', 'find', 'format', 'index', 'isalnum', 'isalpha', 'isdigit', 'islower', 'isspace', 'istitle', 'isupper', 'join', 'ljust', 'lower', 'lstrip', 'partition', 'replace', 'rfind', 'rindex', 'rjust', 'rpartition', 'rsplit', 'rstrip', 'split', 'splitlines', 'startswith', 'strip', 'swapcase', 'title', 'translate', 'upper', 'zfill']\n"
     ]
    }
   ],
   "source": [
    "# list of string methods; string is a class\n",
    "print dir(str)"
   ]
  },
  {
   "cell_type": "code",
   "execution_count": 40,
   "metadata": {
    "collapsed": false
   },
   "outputs": [
    {
     "name": "stdout",
     "output_type": "stream",
     "text": [
      "[1, 2, 3, 4, 5, 6]\n"
     ]
    }
   ],
   "source": [
    "list1 = [1,3,5]; list2 = [2,4,6]\n",
    "total = list1 + list2\n",
    "print sorted(total)"
   ]
  },
  {
   "cell_type": "code",
   "execution_count": 107,
   "metadata": {
    "collapsed": false
   },
   "outputs": [
    {
     "name": "stdout",
     "output_type": "stream",
     "text": [
      "init object:  <__main__.Do object at 0x1045ceb10>\n",
      "5\n",
      "init object:  <__main__.Do object at 0x1045ce510>\n",
      "5\n"
     ]
    }
   ],
   "source": [
    "class Do(object):\n",
    "    def __init__(self):\n",
    "        print 'init object: ', self\n",
    "        self.var = 2\n",
    "        self.value = 0\n",
    "        \n",
    "    def __add__(self, addition):\n",
    "        self.value = self.value + addition\n",
    "        return self.value\n",
    "        self.var = self.var - addition\n",
    "        return self.var\n",
    "\n",
    "x = Do(); print x + 5  # same as x.__add__(5)\n",
    "\n",
    "x = Do(); print x.__add__(5)\n",
    "\n",
    "# every time we call an object, self is called\n",
    "# we give self."
   ]
  },
  {
   "cell_type": "code",
   "execution_count": 108,
   "metadata": {
    "collapsed": false
   },
   "outputs": [
    {
     "name": "stdout",
     "output_type": "stream",
     "text": [
      "error type:    <type 'exceptions.NameError'>\n",
      "error string:  name 'some_code_i_wrote' is not defined\n",
      "traceback:     Traceback (most recent call last):\n",
      "  File \"<ipython-input-108-345e795f3158>\", line 4, in <module>\n",
      "    some_code_i_wrote()\n",
      "NameError: name 'some_code_i_wrote' is not defined\n",
      "\n"
     ]
    }
   ],
   "source": [
    "# can check own code to see what's going on\n",
    "import sys, traceback\n",
    "try:\n",
    "    some_code_i_wrote()\n",
    "except BaseException, e: # don't even need BaseException\n",
    "    error_type, error_string, error_tb =  sys.exc_info()\n",
    "    if not error_type == SystemExit:\n",
    "        print 'error type:    {}'.format(error_type)\n",
    "        print 'error string:  {}'.format(error_string)\n",
    "        print 'traceback:     {}'.format(''.join(traceback.format_exception(error_type, e, error_tb)))"
   ]
  },
  {
   "cell_type": "code",
   "execution_count": 113,
   "metadata": {
    "collapsed": false
   },
   "outputs": [
    {
     "name": "stdout",
     "output_type": "stream",
     "text": [
      "{'a': 5, 'b': 'heyyy'}\n",
      "<class '__main__.MyDict'>\n"
     ]
    }
   ],
   "source": [
    "class MyDict(dict):\n",
    "    pass \n",
    "\n",
    "x = MyDict() # and hence x calls all of dict's methods through inheritance\n",
    "x['a'] = 5\n",
    "x['b'] = 'heyyy'\n",
    "\n",
    "print x\n",
    "print type(x)"
   ]
  },
  {
   "cell_type": "code",
   "execution_count": 114,
   "metadata": {
    "collapsed": false
   },
   "outputs": [
    {
     "data": {
      "text/plain": [
       "[5, 10]"
      ]
     },
     "execution_count": 114,
     "metadata": {},
     "output_type": "execute_result"
    }
   ],
   "source": [
    "# set a class to be a list\n",
    "class MyList(list):\n",
    "    def __getitem__(self, index):\n",
    "        value = list.__getitem__(self, index-1)\n",
    "        return value\n",
    "    \n",
    "x = MyList() # initializes x as a list through object inheritance\n",
    "x.append(5)\n",
    "x.append(10)\n",
    "x"
   ]
  },
  {
   "cell_type": "code",
   "execution_count": null,
   "metadata": {
    "collapsed": true
   },
   "outputs": [],
   "source": []
  },
  {
   "cell_type": "code",
   "execution_count": null,
   "metadata": {
    "collapsed": true
   },
   "outputs": [],
   "source": []
  },
  {
   "cell_type": "code",
   "execution_count": null,
   "metadata": {
    "collapsed": true
   },
   "outputs": [],
   "source": []
  },
  {
   "cell_type": "code",
   "execution_count": null,
   "metadata": {
    "collapsed": true
   },
   "outputs": [],
   "source": []
  }
 ],
 "metadata": {
  "anaconda-cloud": {},
  "kernelspec": {
   "display_name": "Python [default]",
   "language": "python",
   "name": "python2"
  },
  "language_info": {
   "codemirror_mode": {
    "name": "ipython",
    "version": 2
   },
   "file_extension": ".py",
   "mimetype": "text/x-python",
   "name": "python",
   "nbconvert_exporter": "python",
   "pygments_lexer": "ipython2",
   "version": "2.7.12"
  }
 },
 "nbformat": 4,
 "nbformat_minor": 0
}
