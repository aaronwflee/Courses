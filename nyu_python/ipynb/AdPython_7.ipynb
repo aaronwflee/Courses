{
 "cells": [
  {
   "cell_type": "markdown",
   "metadata": {},
   "source": [
    "# 11/07/2016: Session 7 \n",
    "# Regular Expressions, Testing, Team Tools"
   ]
  },
  {
   "cell_type": "code",
   "execution_count": 3,
   "metadata": {
    "collapsed": false
   },
   "outputs": [
    {
     "name": "stdout",
     "output_type": "stream",
     "text": [
      "1934\n"
     ]
    }
   ],
   "source": [
    "#In the case of fixed-width text, we have been able to use a slice.\n",
    "\n",
    "line = '19340903  3.4 0.9'\n",
    "print line[0:4]"
   ]
  },
  {
   "cell_type": "code",
   "execution_count": 5,
   "metadata": {
    "collapsed": false
   },
   "outputs": [
    {
     "name": "stdout",
     "output_type": "stream",
     "text": [
      "3.4\n"
     ]
    }
   ],
   "source": [
    "#In the case of delimited text, we have been able to use split()\n",
    "\n",
    "line = '19340903,3.4,0.9'\n",
    "els = line.split(',')\n",
    "\n",
    "print els[1]   "
   ]
  },
  {
   "cell_type": "code",
   "execution_count": 6,
   "metadata": {
    "collapsed": false
   },
   "outputs": [
    {
     "name": "stdout",
     "output_type": "stream",
     "text": [
      "<type '_sre.SRE_Match'>\n",
      "66.108.19.165\n",
      "09/Jun/2003\n",
      "19:56:33\n",
      "-0400\n"
     ]
    }
   ],
   "source": [
    "import re\n",
    "\n",
    "log_line = '66.108.19.165 - - [09/Jun/2003:19:56:33 -0400] \"GET /~jjk265/cd.jpg HTTP/1.1\" 200 175449'\n",
    "\n",
    "reg = re.search(r'(\\d{2,3}\\.\\d{2,3}\\.\\d{2,3}\\.\\d{2,3}) - - \\[(\\d\\d\\/\\w{3}\\/\\d{4}):(\\d\\d:\\d\\d:\\d\\d) (\\-?\\d\\d\\d\\d)', log_line)\n",
    "print type(reg)\n",
    "\n",
    "print reg.group(1)   # 66.108.19.165\n",
    "print reg.group(2)   # 09/Jun/2003\n",
    "print reg.group(3)   # 19:56:33\n",
    "print reg.group(4)   # -0400"
   ]
  },
  {
   "cell_type": "markdown",
   "metadata": {},
   "source": [
    "How does regex work?\n",
    "Looks for patterns within the r'string' i.e., raw string\n",
    "\n",
    "r'(\\d{2,3}\\.\\d{2,3}\\.\\d{2,3}\\.\\d{2,3}) - - \\[(\\d\\d\\/\\w{3}\\/\\d{4}):(\\d\\d:\\d\\d:\\d\\d) (\\-?\\d\\d\\d\\d)'\n",
    "  \n",
    "  2-3 digits, a period, 2-3 digits, a period, 2-3 digits, a period, 2-3 digits, \n",
    "  followed by a space, dash, space, dash, \n",
    "  followed by an open square bracket, 2 digits, forward slash, 3 word characters, forward slash, 4 digits,\n",
    "  followed by a colon, 2 digits, colon, 2 digits, colon, 2 digits, space\n",
    "  followed by a dash and 4 digits.  "
   ]
  },
  {
   "cell_type": "markdown",
   "metadata": {},
   "source": [
    "Anchor Characters and the Boundary Character\t$, ^, \\b\n",
    "Character Classes\t\\w, \\d, \\s, \\W, \\S, \\D\n",
    "Custom Character Classes\t[aeiou], [a-zA-Z]\n",
    "The Wildcard\t.\n",
    "Quantifiers\t+, *, ?\n",
    "Custom Quantifiers\t{ 2,3}, { 2,}, { 2}\n",
    "Groupings\t(parentheses groups)"
   ]
  },
  {
   "cell_type": "code",
   "execution_count": null,
   "metadata": {
    "collapsed": true
   },
   "outputs": [],
   "source": []
  },
  {
   "cell_type": "code",
   "execution_count": null,
   "metadata": {
    "collapsed": true
   },
   "outputs": [],
   "source": []
  },
  {
   "cell_type": "code",
   "execution_count": null,
   "metadata": {
    "collapsed": true
   },
   "outputs": [],
   "source": []
  },
  {
   "cell_type": "code",
   "execution_count": null,
   "metadata": {
    "collapsed": true
   },
   "outputs": [],
   "source": []
  },
  {
   "cell_type": "code",
   "execution_count": null,
   "metadata": {
    "collapsed": true
   },
   "outputs": [],
   "source": []
  },
  {
   "cell_type": "code",
   "execution_count": null,
   "metadata": {
    "collapsed": true
   },
   "outputs": [],
   "source": []
  },
  {
   "cell_type": "code",
   "execution_count": null,
   "metadata": {
    "collapsed": true
   },
   "outputs": [],
   "source": []
  },
  {
   "cell_type": "code",
   "execution_count": null,
   "metadata": {
    "collapsed": true
   },
   "outputs": [],
   "source": []
  },
  {
   "cell_type": "code",
   "execution_count": null,
   "metadata": {
    "collapsed": true
   },
   "outputs": [],
   "source": []
  },
  {
   "cell_type": "code",
   "execution_count": null,
   "metadata": {
    "collapsed": true
   },
   "outputs": [],
   "source": []
  }
 ],
 "metadata": {
  "anaconda-cloud": {},
  "kernelspec": {
   "display_name": "Python [conda root]",
   "language": "python",
   "name": "conda-root-py"
  },
  "language_info": {
   "codemirror_mode": {
    "name": "ipython",
    "version": 2
   },
   "file_extension": ".py",
   "mimetype": "text/x-python",
   "name": "python",
   "nbconvert_exporter": "python",
   "pygments_lexer": "ipython2",
   "version": "2.7.12"
  }
 },
 "nbformat": 4,
 "nbformat_minor": 1
}
