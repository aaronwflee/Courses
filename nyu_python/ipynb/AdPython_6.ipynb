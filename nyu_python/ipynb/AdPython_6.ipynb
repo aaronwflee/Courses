{
 "cells": [
  {
   "cell_type": "markdown",
   "metadata": {},
   "source": [
    "# 10/31/2016: Session 6\n",
    "# Attribute Access and Functional Programming"
   ]
  },
  {
   "cell_type": "code",
   "execution_count": 28,
   "metadata": {
    "collapsed": false
   },
   "outputs": [
    {
     "name": "stdout",
     "output_type": "stream",
     "text": [
      "4\n",
      "5\n",
      "6\n",
      "7\n",
      "8\n",
      "9\n",
      "\n",
      "\n",
      "3 == current\n",
      "4\n",
      "5\n",
      "6\n",
      "7\n",
      "8\n",
      "9\n"
     ]
    }
   ],
   "source": [
    "# recap of classes and iteration function __iter__\n",
    "\n",
    "class Counter:\n",
    "    def __init__(self, low, high):\n",
    "        self.current = low\n",
    "        self.high = high\n",
    "    \n",
    "    def __iter__(self): #\n",
    "        return self\n",
    "    \n",
    "    def next(self):\n",
    "        if self.current > self.high:\n",
    "            raise StopIteration  #this is a built-in exception\n",
    "        else:\n",
    "            self.current += 1\n",
    "            return self.current\n",
    "    \n",
    "    \n",
    "for c in Counter(3,8):\n",
    "    print c\n",
    "    \n",
    "print \"\"\"\n",
    "\"\"\"\n",
    "\n",
    "obj = Counter(3,8)\n",
    "print obj.current, \"== current\"\n",
    "print obj.next()\n",
    "print obj.next()\n",
    "print obj.next()\n",
    "print obj.next()\n",
    "print obj.next()\n",
    "print obj.next()"
   ]
  },
  {
   "cell_type": "code",
   "execution_count": null,
   "metadata": {
    "collapsed": true
   },
   "outputs": [],
   "source": [
    "%run hello.py #this runs the script within python"
   ]
  },
  {
   "cell_type": "markdown",
   "metadata": {},
   "source": [
    "#### Three pillars of object-oriented programming (OOP)\n",
    ". Encapsulation\n",
    "    - allows an object to control its own data\n",
    "    - the integrity of an object's state (i.e., its attribute values) is maintained\n",
    "\n",
    ". Inheritance\n",
    "    - adding another tier of attribute lookup\n",
    "    - e.g., from own classes, or from built-in classes\n",
    "\n",
    ". Polymorphism\n",
    "    - same-named method used on different object types achieving different results\n",
    "    - e.g., adding (+ or __add__) strings vs numbers"
   ]
  },
  {
   "cell_type": "code",
   "execution_count": 48,
   "metadata": {
    "collapsed": false
   },
   "outputs": [
    {
     "name": "stdout",
     "output_type": "stream",
     "text": [
      "setattr:  setting \"a\" to value \"5\"\n",
      "getattribute:  attempting to access \"__dict__\"\n",
      "getattribute:  attempting to access \"a\"\n",
      "5\n",
      "getattribute:  attempting to access \"ccc\"\n",
      "getattr: \"ccc\" not found; setting default\n",
      "setattr:  setting \"ccc\" to value \"0\"\n",
      "getattribute:  attempting to access \"__dict__\"\n",
      "0\n"
     ]
    }
   ],
   "source": [
    "class MyClass(object):\n",
    "\n",
    "    # when read attribute does not exist\n",
    "    def __getattr__(self, name):\n",
    "        default = 0 # default sets \n",
    "        print 'getattr: \"{}\" not found; setting default'.format(name)\n",
    "        setattr(self, name, default)\n",
    "        return default\n",
    "\n",
    "    # when attribute is read\n",
    "    def __getattribute__(self, name):\n",
    "        print 'getattribute:  attempting to access \"{}\"'.format(name)\n",
    "        return object.__getattribute__(self, name) # calling parent attribute (object)\n",
    "        '''\n",
    "        object has attributes of __getattribute__\n",
    "        '''\n",
    "\n",
    "    # when attribute is assigned\n",
    "    def __setattr__(self, name, value):\n",
    "        print 'setattr:  setting \"{}\" to value \"{}\"'.format(name, value)\n",
    "        self.__dict__[name] = value\n",
    "\n",
    "x = MyClass()\n",
    "\n",
    "x.a = 5             # setattr:  setting \"a\" to value \"5\"\n",
    "\n",
    "print x.a           # getattribute:  attempting to access \"__dict__\"\n",
    "                    # getattribute:  attempting to access \"a\"\n",
    "                    # 5\n",
    "\n",
    "print x.ccc         # getattribute:  attempting to access \"ccc\"\n",
    "                    # getattr: \"ccc\" not found; setting default\n",
    "                    # setattr:  setting \"ccc\" to value \"0\"\n",
    "                    # getattribute:  attempting to access \"__dict__\"\n",
    "                    # 0"
   ]
  },
  {
   "cell_type": "code",
   "execution_count": 47,
   "metadata": {
    "collapsed": false
   },
   "outputs": [
    {
     "name": "stdout",
     "output_type": "stream",
     "text": [
      "5\n",
      "10\n"
     ]
    }
   ],
   "source": [
    "class This(object):       # a simple class with one class variable\n",
    "    a = 5\n",
    "\n",
    "x = This()\n",
    "\n",
    "print getattr(x, 'a')     # 5:  finds the 'a' attribute in the class\n",
    "\n",
    "setattr(x, 'b', 10)       #     set x.b = 10 in the instance\n",
    "\n",
    "print x.b                 # 10: retrieve x.b from the instance"
   ]
  },
  {
   "cell_type": "markdown",
   "metadata": {},
   "source": [
    "#### @property: attribute control\n",
    "This decorator allows behavior control when an individual attribute is accessed, through separate @property, @setter and @deleter methods.  "
   ]
  },
  {
   "cell_type": "code",
   "execution_count": null,
   "metadata": {
    "collapsed": false
   },
   "outputs": [],
   "source": [
    "class GetSet(object):\n",
    "\n",
    "    def __init__(self,value):\n",
    "        self.attrval = value\n",
    "\n",
    "    @property # (read)\n",
    "    def var(self):\n",
    "        print 'getting the \"var\" attribute'\n",
    "        return self.attrval\n",
    "\n",
    "    @var.setter # sets property (write)\n",
    "    def var(self, value):\n",
    "        print 'setting the \"var\" attribute'\n",
    "        self.attrval = value\n",
    "\n",
    "    @var.deleter # deletes property (delete)\n",
    "    def var(self):\n",
    "        print 'deleting the \"var\" attribute'\n",
    "        self.attrval = None\n",
    "\n",
    "me = GetSet(5)\n",
    "me.var\n",
    "print me.var\n",
    "\n",
    "\n",
    "me.var = 1000    # setting the \"var\" attribute\n",
    "print me.var     # getting the \"var\" attribute\n",
    "                 # 1000\n",
    "\n",
    "del me.var       # deleting the \"var\" attribute\n",
    "print me.var     # getting the \"var\" attribute\n",
    "                 # None"
   ]
  },
  {
   "cell_type": "markdown",
   "metadata": {},
   "source": [
    "An underscore (_) at the beginning is used to denote private variables in Python"
   ]
  },
  {
   "cell_type": "code",
   "execution_count": 79,
   "metadata": {
    "collapsed": false
   },
   "outputs": [
    {
     "name": "stdout",
     "output_type": "stream",
     "text": [
      "initializing object  <__main__.MyClass object at 0x1044b48d0>\n",
      "Getting attribute from object <__main__.MyClass object at 0x1044b48d0>\n",
      "...and doing some related operation that should take place at this time\n",
      "retrieved value:  0\n"
     ]
    }
   ],
   "source": [
    "#descriptors get and set values\n",
    "\n",
    "class RevealAccess(object):\n",
    "    \"\"\" A data descriptor that sets and returns values and prints a message declaring access. \"\"\"\n",
    "\n",
    "    def __init__(self, initval=None):\n",
    "        self.val = initval\n",
    "\n",
    "    def __get__(self, obj, objtype):\n",
    "        print 'Getting attribute from object', obj\n",
    "        print '...and doing some related operation that should take place at this time'\n",
    "        return self.val\n",
    "\n",
    "    def __set__(self, obj, val): # self (descriptor object = RevealAccess) # obj (MyClass = mm)\n",
    "        print 'Setting attribute from object', obj\n",
    "        print '...and doing some related operation that should take place at this time'\n",
    "        self.val = val #obj.val instead?\n",
    "\n",
    "\n",
    "# the class we will work with directly\n",
    "class MyClass(object):\n",
    "    \"\"\" A simple class with a class variable as descriptor \"\"\"\n",
    "    def __init__(self):\n",
    "        print 'initializing object ', self\n",
    "\n",
    "    x = RevealAccess(initval=0)  # attach a descriptor to class attribute 'x'\n",
    "    # descriptors always have to be within a class\n",
    "    # it is a class attribute because it is defined within a class (MyClass)\n",
    "\n",
    "\n",
    "mm = MyClass()                   # initializing object  <__main__.MyClass object at 0x10066f7d0>\n",
    "\n",
    "#mm.x = 5                         # Setting attribute from object <__main__.MyClass object at 0x1004de910>\n",
    "                                 # ...and doing some related operation that should take place at this time\n",
    "\n",
    "val = mm.x                       # Getting attribute from object <__main__.MyClass object at 0x1004de910>\n",
    "                                 # ...and doing some related operation that should take place at this time\n",
    "\n",
    "print 'retrieved value: ', val   # retrieved value:  5, and 0 if mm.x was never called so that default is 0"
   ]
  },
  {
   "cell_type": "markdown",
   "metadata": {},
   "source": [
    "## Functional Programming"
   ]
  },
  {
   "cell_type": "code",
   "execution_count": 81,
   "metadata": {
    "collapsed": false
   },
   "outputs": [
    {
     "name": "stdout",
     "output_type": "stream",
     "text": [
      "55\n",
      "55\n",
      "55\n"
     ]
    }
   ],
   "source": [
    "\n",
    "## The different paradigms\n",
    "\n",
    "\n",
    "#procedural\n",
    "# involves a series of statements along with variables that change as a result. \n",
    "# We call these variable values the program's state. \n",
    "mysum = 0\n",
    "for counter in range(11):\n",
    "    mysum = mysum + counter\n",
    "\n",
    "print mysum\n",
    "\n",
    "# OOP uses object state to produce outcome\n",
    "class Summer(object):\n",
    "    def __init__(self):\n",
    "        self.sum = 0\n",
    "    def add(self, num):\n",
    "        self.sum = self.sum + num\n",
    "\n",
    "s = Summer()\n",
    "for num in range(11):\n",
    "    s.add(num)\n",
    "\n",
    "print s.sum\n",
    "\n",
    "# functional programming combines both \n",
    "print sum(range(11))"
   ]
  },
  {
   "cell_type": "code",
   "execution_count": null,
   "metadata": {
    "collapsed": false
   },
   "outputs": [],
   "source": [
    "# LAMBDA examples\n",
    "\n",
    "# sort a list of names by last name\n",
    "names = [ 'Josh Peschko', 'Gabriel Feghali', 'Billy Woods', 'Arthur Fischer-Zernin' ]\n",
    "sortednames = sorted(names, key=lambda name:  name.split()[1])\n",
    "\n",
    "# sort a list of CSV lines by the 2nd column in the file\n",
    "slines = sorted(lines, lambda x: x.split(',')[2])"
   ]
  },
  {
   "cell_type": "markdown",
   "metadata": {},
   "source": [
    "### list comprehension"
   ]
  },
  {
   "cell_type": "code",
   "execution_count": 89,
   "metadata": {
    "collapsed": false
   },
   "outputs": [
    {
     "name": "stdout",
     "output_type": "stream",
     "text": [
      "[2, 4, 6, 8, 10]\n",
      "[6, 8, 10]\n"
     ]
    }
   ],
   "source": [
    "nums = [1, 2, 3, 4, 5]\n",
    "dblnums = [ val * 2 for val in nums ]\n",
    "print dblnums                                 # [2, 4, 6, 8, 10]\n",
    "\n",
    "print [ val * 2 for val in nums if val > 2]   # [6, 8, 10] "
   ]
  },
  {
   "cell_type": "markdown",
   "metadata": {},
   "source": [
    "### set comprehension example"
   ]
  },
  {
   "cell_type": "code",
   "execution_count": null,
   "metadata": {
    "collapsed": false
   },
   "outputs": [],
   "source": [
    "states = { line.split(':')[3] \n",
    "           for line in open('student_db.txt').readlines()[1:] } # readlines()[1:] returns a set"
   ]
  },
  {
   "cell_type": "markdown",
   "metadata": {},
   "source": [
    "### dict comprehension example"
   ]
  },
  {
   "cell_type": "code",
   "execution_count": null,
   "metadata": {
    "collapsed": false
   },
   "outputs": [],
   "source": [
    "student_states = { line.split(':')[0]: line.split(':')[3] \n",
    "                   for line in open('student_db.txt').readlines()[1:] }"
   ]
  },
  {
   "cell_type": "markdown",
   "metadata": {},
   "source": [
    "### as an alternative to list comprehension, we can use map() and reduce()\n",
    "- map(func, range) takes the function and applies it to the given sequence\n",
    "- filter(criteria, range) applies criteria to given sequence and returns those that satisfy it\n",
    "- reduce() applies a function to items in a sequence, but accumulates a value as it iterates.  "
   ]
  },
  {
   "cell_type": "code",
   "execution_count": 92,
   "metadata": {
    "collapsed": false
   },
   "outputs": [
    {
     "name": "stdout",
     "output_type": "stream",
     "text": [
      "[1, 4, 9, 16, 25]\n",
      "[4, 5, 2, 3, 7, 4]\n"
     ]
    }
   ],
   "source": [
    "# square some integers\n",
    "sqrd = map(lambda x: x ** 2, range(1,6))    # [1, 4, 9, 16, 25]\n",
    "print sqrd\n",
    "# get string lengths\n",
    "lens = map(len, ['some', 'words', 'to', 'get', 'lengths', 'from'])\n",
    "print lens    # [4, 5, 2, 3, 7, 4]"
   ]
  },
  {
   "cell_type": "code",
   "execution_count": 93,
   "metadata": {
    "collapsed": false
   },
   "outputs": [
    {
     "name": "stdout",
     "output_type": "stream",
     "text": [
      "[2, 17, 6, 4]\n"
     ]
    }
   ],
   "source": [
    "\n",
    "pos = filter(lambda x: x > 0, [-5, 2, -3, 17, 6, 4, -9])\n",
    "print pos     # [2, 17, 6, 4]"
   ]
  },
  {
   "cell_type": "code",
   "execution_count": 127,
   "metadata": {
    "collapsed": false
   },
   "outputs": [
    {
     "name": "stdout",
     "output_type": "stream",
     "text": [
      "55\n",
      "55\n"
     ]
    }
   ],
   "source": [
    "def addthem(a, x):\n",
    "    return a + x\n",
    "intsum = reduce(addthem, range(1, 11))\n",
    "print intsum\n",
    "\n",
    "# same using a lambda\n",
    "intsum = reduce(lambda a, x: a + x, range(1,11))\n",
    "print intsum"
   ]
  },
  {
   "cell_type": "code",
   "execution_count": 130,
   "metadata": {
    "collapsed": false
   },
   "outputs": [
    {
     "name": "stdout",
     "output_type": "stream",
     "text": [
      "2\n",
      "3\n",
      "5\n",
      "2 3 5 7 11 13 17 19 23 29 31 37 41 43 47 53 59 61 67 71 73 79 83 89 97\n"
     ]
    }
   ],
   "source": [
    "# GENERATORS\n",
    "# particularly useful in producing a sequence of n values\n",
    "# i.e. not a fixed sequence, but an unlimited sequence.\n",
    "# In this example we have prepared a generator that generates primes up to the specified limit.  \n",
    "\n",
    "def get_primes(num_max):\n",
    "    \"\"\" prime number generator \"\"\"\n",
    "    candidate = 2\n",
    "    found = []\n",
    "    while True:\n",
    "        if all(candidate % prime != 0 for prime in found):\n",
    "            yield candidate # yield -> returns values in a sequence one by one\n",
    "            found.append(candidate)\n",
    "        candidate += 1\n",
    "        if candidate >= num_max:\n",
    "            raise StopIteration\n",
    "\n",
    "my_iter = get_primes(100)\n",
    "print my_iter.next()        # 2\n",
    "print my_iter.next()        # 3\n",
    "print my_iter.next()        # 5\n",
    "\n",
    "for i in get_primes(100):\n",
    "    print i,"
   ]
  },
  {
   "cell_type": "code",
   "execution_count": 184,
   "metadata": {
    "collapsed": false
   },
   "outputs": [
    {
     "name": "stdout",
     "output_type": "stream",
     "text": [
      "From fairest creatures we desire increase\n",
      "\n",
      "That thereby beauty's rose might never die\n",
      "\n",
      "But as the riper should by time decease\n",
      "\n",
      "His tender heir might bear his memory:\n",
      "But thou contracted to thine own bright eyes\n",
      "\n",
      "Feed'st thy light's flame with self-substantial fuel\n",
      "\n",
      "Making a famine where abundance lies\n",
      "\n",
      "Thy self thy foe\n",
      " to thy sweet self too cruel:\n",
      "Thou that art now the world's fresh ornament\n",
      "\n",
      "And only herald to the gaudy spring\n",
      "\n",
      "Within thine own bud buriest thy content\n",
      "\n",
      "And tender churl mak'st waste in niggarding:\n",
      "Pity the world\n",
      " or else this glutton be\n",
      "\n",
      "To eat the world's due\n",
      " by the grave and thee.\n"
     ]
    }
   ],
   "source": [
    "son = '''From fairest creatures we desire increase,\n",
    "That thereby beauty's rose might never die,\n",
    "But as the riper should by time decease,\n",
    "His tender heir might bear his memory:\n",
    "But thou contracted to thine own bright eyes,\n",
    "Feed'st thy light's flame with self-substantial fuel,\n",
    "Making a famine where abundance lies,\n",
    "Thy self thy foe, to thy sweet self too cruel:\n",
    "Thou that art now the world's fresh ornament,\n",
    "And only herald to the gaudy spring,\n",
    "Within thine own bud buriest thy content,\n",
    "And tender churl mak'st waste in niggarding:\n",
    "Pity the world, or else this glutton be,\n",
    "To eat the world's due, by the grave and thee.'''\n",
    "\n",
    "sonnet = son.split(',')\n",
    "\n",
    "def words(passage):\n",
    "    for i in passage:\n",
    "        yield i\n",
    "\n",
    "for i in words(sonnet):\n",
    "    print i"
   ]
  },
  {
   "cell_type": "code",
   "execution_count": null,
   "metadata": {
    "collapsed": true
   },
   "outputs": [],
   "source": []
  },
  {
   "cell_type": "markdown",
   "metadata": {},
   "source": [
    "Use recursion when there's an operation we need to repeat, but we don't know how many times"
   ]
  },
  {
   "cell_type": "code",
   "execution_count": 169,
   "metadata": {
    "collapsed": false
   },
   "outputs": [
    {
     "name": "stdout",
     "output_type": "stream",
     "text": [
      "Acme Office Supply:  Megacorp\n",
      "Acme Paper:  Megacorp\n",
      "Acme Pens:  Megacorp\n",
      "Best Audio:  Best Electronics\n",
      "Best Electronics:  Best Electronics\n",
      "Best TV:  Best Electronics\n",
      "Celera Books:  Megacorp\n",
      "Celera Publishing:  Megacorp\n",
      "Celera Web:  Megacorp\n",
      "Megacorp:  Megacorp\n"
     ]
    }
   ],
   "source": [
    "parents = {\n",
    "            'Megacorp':           None,\n",
    "\n",
    "            'Acme Office Supply': 'Megacorp',\n",
    "            'Acme Paper':         'Acme Office Supply',\n",
    "            'Acme Pens':          'Acme Office Supply',\n",
    "\n",
    "            'Best Electronics':   None,\n",
    "            'Best Audio':         'Best Electronics',\n",
    "            'Best TV':            'Best Electronics',\n",
    "\n",
    "            'Celera Publishing':  'Megacorp',\n",
    "            'Celera Books':       'Celera Publishing',\n",
    "            'Celera Web':         'Celera Publishing'\n",
    "                                                        }\n",
    "\n",
    "def top_parent(company_id):\n",
    "    if ( company_id not in parents or       # base case (no parent):  return\n",
    "                    not parents[company_id] ):\n",
    "\n",
    "        return company_id\n",
    "\n",
    "    return top_parent(parents[company_id])  # recursive call with parent id\n",
    "    # calling top_parent from within top_parent -> publishing\n",
    "    # if None, gives last returned value\n",
    "\n",
    "for id in sorted(parents.keys()):\n",
    "    print '{}:  {}'.format(id, top_parent(id))"
   ]
  }
 ],
 "metadata": {
  "anaconda-cloud": {},
  "kernelspec": {
   "display_name": "Python [conda root]",
   "language": "python",
   "name": "conda-root-py"
  },
  "language_info": {
   "codemirror_mode": {
    "name": "ipython",
    "version": 2
   },
   "file_extension": ".py",
   "mimetype": "text/x-python",
   "name": "python",
   "nbconvert_exporter": "python",
   "pygments_lexer": "ipython2",
   "version": "2.7.12"
  }
 },
 "nbformat": 4,
 "nbformat_minor": 1
}
