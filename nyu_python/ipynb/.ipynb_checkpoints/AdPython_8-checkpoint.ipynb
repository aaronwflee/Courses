{
 "cells": [
  {
   "cell_type": "markdown",
   "metadata": {},
   "source": [
    "# 11/14/2016: Session 8\n",
    "# Internet and Persistence"
   ]
  },
  {
   "cell_type": "code",
   "execution_count": null,
   "metadata": {
    "collapsed": false
   },
   "outputs": [],
   "source": [
    "# flask is like Django-lite on the web"
   ]
  },
  {
   "cell_type": "code",
   "execution_count": null,
   "metadata": {
    "collapsed": true
   },
   "outputs": [],
   "source": [
    "from flask import Flask\n",
    "my_app = Flask(__name__)      # a Flask object\n",
    "\n",
    "@my_app.route('/this')\n",
    "def dothis():\n",
    "    return 'Get thee to a nunnery!<BR><BR>Say <A HREF=\"/\">Hi!</A>'\n",
    "\n",
    "\n",
    "@my_app.route('/')            # called when visiting web URL 127.0.0.1:5000/\n",
    "def hello_world():\n",
    "    print '*** This String Tho ***' # print statements get printed to log, not webpage, serves debugging purposes\n",
    "    return 'Hello World!<BR><BR>Say <A HREF=\"/bye\">Bye!</A>'\n",
    "\n",
    "@my_app.route('/bye')         # called when visiting web URL 127.0.0.1:5000/bye\n",
    "def goodbye():\n",
    "    return dothis()\n",
    "\n",
    "if __name__ == '__main__':\n",
    "    my_app.run(debug=True, port=5000)    # app starts serving in debug mode on port 5000"
   ]
  },
  {
   "cell_type": "code",
   "execution_count": null,
   "metadata": {
    "collapsed": true
   },
   "outputs": [],
   "source": [
    "# reading from form submission\n",
    "import flask\n",
    "my_app = flask.Flask(__name__)      # a Flask object\n",
    "\n",
    "@my_app.route('/')            # called when visiting web URL 127.0.0.1:5000/\n",
    "def hello_world():\n",
    "    return 'What is your <A HREF=\"/bye\"> name</A>'\n",
    "\n",
    "@my_app.route('/bye')         # called when visiting web URL 127.0.0.1:5000/bye\n",
    "def goodbye():\n",
    "    fname = flask.request.args.get('fname')              # like dict.get()\n",
    "    lname = flask.request.values['lname']                # like dict access\n",
    "    return 'fname: {}, lname: {}'.format(fname, lname)\n",
    "\n",
    "if __name__ == '__main__':\n",
    "    my_app.run(debug=True, port=5000)    # app starts serving in debug mode on port 5000"
   ]
  },
  {
   "cell_type": "markdown",
   "metadata": {},
   "source": [
    "<!DOCTYPE html>\n",
    "<html lang=\"en\">\n",
    "  <body>\n",
    "    <form action = \"http://127.0.0.1:5000/bye\">\n",
    "      First name: <input name=\"fname\"><br>\n",
    "      Last name: <input name=\"lname\"><br>\n",
    "      <input type=\"submit\" value=\"Go!\">\n",
    "    </form>\n",
    "  </body>\n",
    "</html>"
   ]
  },
  {
   "cell_type": "markdown",
   "metadata": {
    "collapsed": true
   },
   "source": [
    "## JSON"
   ]
  },
  {
   "cell_type": "code",
   "execution_count": 1,
   "metadata": {
    "collapsed": true
   },
   "outputs": [],
   "source": [
    "j = {\n",
    "   \"key1\":  [\"a\", \"b\", \"c\"],\n",
    "   \"key2\":  {\n",
    "              \"innerkey1\": 5,\n",
    "              \"innerkey2\": \"woah\"\n",
    "            },\n",
    "   \"key3\":  55.09,\n",
    "   \"key4\":  \"hello\"\n",
    "}"
   ]
  },
  {
   "cell_type": "code",
   "execution_count": 5,
   "metadata": {
    "collapsed": false
   },
   "outputs": [
    {
     "name": "stdout",
     "output_type": "stream",
     "text": [
      "{'key3': 55.09, 'key2': {'innerkey2': 'woah', 'innerkey1': 5}, 'key1': ['a', 'b', 'c'], 'key4': 'hello'}\n"
     ]
    }
   ],
   "source": [
    "fh = open('mystruct.json')    # file contains JSON\n",
    "mys = json.load(fh)           # load from a file\n",
    "fh.close()\n",
    "\n",
    "print mys['key2']['innerkey2']   # woah"
   ]
  },
  {
   "cell_type": "markdown",
   "metadata": {},
   "source": [
    "easy to make mistakes when coding json files by hand - very particular about formatting\n",
    "instead, use python to code json files and read them"
   ]
  },
  {
   "cell_type": "code",
   "execution_count": 12,
   "metadata": {
    "collapsed": false
   },
   "outputs": [
    {
     "name": "stdout",
     "output_type": "stream",
     "text": [
      "2016-11-26\n"
     ]
    }
   ],
   "source": [
    "import pickle\n",
    "import datetime\n",
    "x = {'a':1, 'b':2, 'c':[3,4,5], 'd':datetime.date(2016,11,26)}\n",
    "print x['d']"
   ]
  },
  {
   "cell_type": "markdown",
   "metadata": {
    "collapsed": true
   },
   "source": [
    "### pickle for object serialization\n",
    "Any Python data object can be written to disk without modification.  "
   ]
  },
  {
   "cell_type": "code",
   "execution_count": 19,
   "metadata": {
    "collapsed": false
   },
   "outputs": [
    {
     "name": "stdout",
     "output_type": "stream",
     "text": [
      "[('joe', 22, 'clerk', 33000.0), ('pete', 34, 'salesman', 51000.0), datetime.date(2016, 5, 31)]\n",
      "2016-05-31\n"
     ]
    }
   ],
   "source": [
    "import pickle\n",
    "import datetime\n",
    "br = [('joe', 22, 'clerk', 33000.0), ('pete', 34, 'salesman', 51000.0), datetime.date(2016,5,31)]\n",
    "F = open('emptyfile.pickle', 'w')\n",
    "pickle.dump(br, F)\n",
    "F.close()\n",
    "\n",
    "## later\n",
    "G = open('emptyfile.pickle')\n",
    "J = pickle.load(G)\n",
    "print J\n",
    "print J[2]\n",
    "    #  [('joe', 22, 'clerk', 33000.0), ('pete', 34, 'salesman', 51000.0), "
   ]
  },
  {
   "cell_type": "markdown",
   "metadata": {
    "collapsed": true
   },
   "source": [
    "For ease of use, custom-designed objects are superior.  As they can behave like Python objects, they can be used in a variety of familiar situations.  As they are custom-designed, they can be made to hold data in any form.  \n",
    "\n",
    "Since custom-designed objects can be serialized using pickle, they can be stored directly without using object<->relational or object<->JSON translations.  pickle is slower than RDBS and JSON, but it is a convenient option for lightweight applications.  \n",
    "\n",
    "Consider this pair of data objects:  one holds items and the other is an item:"
   ]
  },
  {
   "cell_type": "code",
   "execution_count": 47,
   "metadata": {
    "collapsed": true
   },
   "outputs": [],
   "source": [
    "import pickle\n",
    "\n",
    "class ItemList(object):\n",
    "\n",
    "    def __init__(self, name):\n",
    "        self.name = name\n",
    "        self.items = []\n",
    "        self.index = -1\n",
    "\n",
    "    def add(self, text):\n",
    "        self.items.append(Item(text))\n",
    "\n",
    "    def __iter__(self):\n",
    "        return self\n",
    "\n",
    "    def next(self):\n",
    "        self.index += 1\n",
    "        if self.index > len(self.items) - 1:\n",
    "            raise StopIteration\n",
    "        return self.items[self.index]\n",
    "\n",
    "class Item(object):\n",
    "    def __init__(self, text):\n",
    "        self.text = text"
   ]
  },
  {
   "cell_type": "code",
   "execution_count": 48,
   "metadata": {
    "collapsed": true
   },
   "outputs": [],
   "source": [
    "this_list = ItemList('mylist')\n",
    "\n",
    "this_list.add('line A')\n",
    "this_list.add('line B')\n",
    "this_list.add('line C')"
   ]
  },
  {
   "cell_type": "code",
   "execution_count": 32,
   "metadata": {
    "collapsed": false
   },
   "outputs": [
    {
     "name": "stdout",
     "output_type": "stream",
     "text": [
      "items for mylist\n",
      " 1. line A\n",
      " 2. line B\n",
      " 3. line C\n"
     ]
    }
   ],
   "source": [
    "wfh = open('picklefile.pickle', 'w')\n",
    "pickle.dump(this_list, wfh)\n",
    "wfh.close()\n",
    "\n",
    "### THE NEXT DAY...\n",
    "\n",
    "fh = open('picklefile.pickle')\n",
    "\n",
    "resurrected_list = pickle.load(fh)\n",
    "\n",
    "print 'items for {}'.format(resurrected_list.name)\n",
    "for i, item in enumerate(resurrected_list):\n",
    "    print ' {}. '.format(i+1) + item.text"
   ]
  },
  {
   "cell_type": "code",
   "execution_count": 52,
   "metadata": {
    "collapsed": false
   },
   "outputs": [
    {
     "name": "stdout",
     "output_type": "stream",
     "text": [
      "<__main__.Item object at 0x1045f2b50>\n"
     ]
    }
   ],
   "source": [
    "print this_list.next()"
   ]
  },
  {
   "cell_type": "code",
   "execution_count": 53,
   "metadata": {
    "collapsed": true
   },
   "outputs": [],
   "source": [
    "# SQLite\n",
    "def insert_db(fname, lname):\n",
    "    sql = INSERT_QUERY.format(TABLE_NAME, fname, lname)\n",
    "    execute_query(sql)\n",
    "\n",
    "def get_db_data():\n",
    "    sql = SELECT_QUERY.format(TABLE_NAME)\n",
    "    c = execute_query(sql)    \n",
    "    return c.fetchall()"
   ]
  },
  {
   "cell_type": "code",
   "execution_count": null,
   "metadata": {
    "collapsed": true
   },
   "outputs": [],
   "source": [
    "def execute_query(sql):\n",
    "    conn = get_db()\n",
    "    c = conn.cursor()\n",
    "    c.execute(sql)\n",
    "    conn.commit()\n",
    "    return c\n",
    "\n",
    "def get_db():\n",
    "    db = getattr(flask.g, '_database', None)\n",
    "    if db is None:\n",
    "        db = flask.g._database = sqlite3.connect(DATABASE)\n",
    "    return db\n",
    "    \n",
    "@app.teardown_appcontext\n",
    "def close_connection(exception):\n",
    "    db = getattr(flask.g, '_database', None)\n",
    "    if db is not None:\n",
    "        db.close()"
   ]
  },
  {
   "cell_type": "code",
   "execution_count": null,
   "metadata": {
    "collapsed": true
   },
   "outputs": [],
   "source": []
  },
  {
   "cell_type": "code",
   "execution_count": null,
   "metadata": {
    "collapsed": true
   },
   "outputs": [],
   "source": []
  }
 ],
 "metadata": {
  "anaconda-cloud": {},
  "kernelspec": {
   "display_name": "Python [conda root]",
   "language": "python",
   "name": "conda-root-py"
  },
  "language_info": {
   "codemirror_mode": {
    "name": "ipython",
    "version": 2
   },
   "file_extension": ".py",
   "mimetype": "text/x-python",
   "name": "python",
   "nbconvert_exporter": "python",
   "pygments_lexer": "ipython2",
   "version": "2.7.12"
  }
 },
 "nbformat": 4,
 "nbformat_minor": 1
}
