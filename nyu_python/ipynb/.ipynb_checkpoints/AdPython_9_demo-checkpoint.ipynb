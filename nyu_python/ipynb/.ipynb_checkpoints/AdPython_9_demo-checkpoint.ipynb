{
 "cells": [
  {
   "cell_type": "code",
   "execution_count": 1,
   "metadata": {
    "collapsed": false
   },
   "outputs": [
    {
     "data": {
      "text/html": [
       "<div>\n",
       "<table border=\"1\" class=\"dataframe\">\n",
       "  <thead>\n",
       "    <tr style=\"text-align: right;\">\n",
       "      <th></th>\n",
       "      <th>a</th>\n",
       "      <th>b</th>\n",
       "      <th>c</th>\n",
       "    </tr>\n",
       "  </thead>\n",
       "  <tbody>\n",
       "    <tr>\n",
       "      <th>r1</th>\n",
       "      <td>1</td>\n",
       "      <td>1.0</td>\n",
       "      <td>a</td>\n",
       "    </tr>\n",
       "    <tr>\n",
       "      <th>r2</th>\n",
       "      <td>2</td>\n",
       "      <td>1.5</td>\n",
       "      <td>b</td>\n",
       "    </tr>\n",
       "    <tr>\n",
       "      <th>r3</th>\n",
       "      <td>3</td>\n",
       "      <td>2.0</td>\n",
       "      <td>c</td>\n",
       "    </tr>\n",
       "    <tr>\n",
       "      <th>r4</th>\n",
       "      <td>4</td>\n",
       "      <td>2.5</td>\n",
       "      <td>d</td>\n",
       "    </tr>\n",
       "  </tbody>\n",
       "</table>\n",
       "</div>"
      ],
      "text/plain": [
       "    a    b  c\n",
       "r1  1  1.0  a\n",
       "r2  2  1.5  b\n",
       "r3  3  2.0  c\n",
       "r4  4  2.5  d"
      ]
     },
     "execution_count": 1,
     "metadata": {},
     "output_type": "execute_result"
    }
   ],
   "source": [
    "import pandas as pd\n",
    "import numpy as np\n",
    "\n",
    "# initialize a new, empty DataFrame\n",
    "df = pd.DataFrame()\n",
    "\n",
    "# initialize a DataFrame with sample data\n",
    "df = pd.DataFrame( {'a': [1, 2, 3, 4], \n",
    "                    'b': [1.0, 1.5, 2.0, 2.5], \n",
    "                    'c': ['a', 'b', 'c', 'd'] }, index=['r1', 'r2', 'r3', 'r4'] )\n",
    "\n",
    "df"
   ]
  },
  {
   "cell_type": "markdown",
   "metadata": {},
   "source": [
    "## Series objects as Columns or Rows of DataFrame"
   ]
  },
  {
   "cell_type": "code",
   "execution_count": null,
   "metadata": {
    "collapsed": false
   },
   "outputs": [],
   "source": [
    "s1 = df['a']       # Series([1, 2, 3, 4]):  column in dataframe\n",
    "s1 = df.a          # same\n",
    "print 's1:', s1\n",
    "\n",
    "print\n",
    "\n",
    "s2 = df.ix[0]      # Series([1, 1.0, 'a'])\n",
    "print 's2:', s2"
   ]
  },
  {
   "cell_type": "markdown",
   "metadata": {},
   "source": [
    "### Series:  Initializing with Index and Name"
   ]
  },
  {
   "cell_type": "code",
   "execution_count": null,
   "metadata": {
    "collapsed": false
   },
   "outputs": [],
   "source": [
    "s1 = pd.Series([5, 6, 7, 8], index=['r1', 'r2', 'r3', 'r4'], \n",
    "                             name='numbers')\n",
    "s1"
   ]
  },
  {
   "cell_type": "markdown",
   "metadata": {},
   "source": [
    "### Series:  Accessing Element with indexing and slicing"
   ]
  },
  {
   "cell_type": "code",
   "execution_count": null,
   "metadata": {
    "collapsed": false
   },
   "outputs": [],
   "source": [
    "s1[0]"
   ]
  },
  {
   "cell_type": "code",
   "execution_count": null,
   "metadata": {
    "collapsed": false
   },
   "outputs": [],
   "source": [
    "s1[0:3]"
   ]
  },
  {
   "cell_type": "markdown",
   "metadata": {},
   "source": [
    "### Series:  setting element values and type"
   ]
  },
  {
   "cell_type": "code",
   "execution_count": null,
   "metadata": {
    "collapsed": false
   },
   "outputs": [],
   "source": [
    "s1 = pd.Series([1.5, 2.4, 3.3, 4.2, 5.1], index=['r1', 'r2', 'r3', 'r4', 'r5'])\n",
    "print 's1 dtype:  ', s1.dtype\n",
    "try:\n",
    "    s1[0] = 'hello'\n",
    "except ValueError, msg:\n",
    "    print 'ValueError: ', msg"
   ]
  },
  {
   "cell_type": "code",
   "execution_count": null,
   "metadata": {
    "collapsed": false
   },
   "outputs": [],
   "source": [
    "s2 = s1.astype('object')\n",
    "s2[0] = 'hello'\n",
    "s2"
   ]
  },
  {
   "cell_type": "markdown",
   "metadata": {},
   "source": [
    "### Series:  Vectorized Operations"
   ]
  },
  {
   "cell_type": "code",
   "execution_count": null,
   "metadata": {
    "collapsed": false
   },
   "outputs": [],
   "source": [
    "si = pd.Series([1, 2, 3], index=['r1', 'r2', 'r3'])\n",
    "print 'si:'\n",
    "print si\n",
    "print\n",
    "sia = si + 1\n",
    "print 'sia:'\n",
    "print sia"
   ]
  },
  {
   "cell_type": "markdown",
   "metadata": {},
   "source": [
    "### Vectorization with Two or More Series"
   ]
  },
  {
   "cell_type": "code",
   "execution_count": null,
   "metadata": {
    "collapsed": false
   },
   "outputs": [],
   "source": [
    "si = pd.Series([1, 2, 3], index=['r1', 'r2', 'r3'])\n",
    "si2 = pd.Series([100, 200, 300], index=['r1', 'r2', 'r3'])\n",
    "\n",
    "si + si2"
   ]
  },
  {
   "cell_type": "markdown",
   "metadata": {},
   "source": [
    "##### ...but note what happens when indices do not match:  pandas lines up rows and uses empty value for mising cells"
   ]
  },
  {
   "cell_type": "code",
   "execution_count": null,
   "metadata": {
    "collapsed": false
   },
   "outputs": [],
   "source": [
    "si = pd.Series([1, 2, 3], index=['r1', 'r2', 'r3'])\n",
    "si2 = pd.Series([100, 200, 300], index=['r2', 'r3', 'r4'])\n",
    "\n",
    "si + si2"
   ]
  },
  {
   "cell_type": "markdown",
   "metadata": {},
   "source": [
    "### Mask with Series"
   ]
  },
  {
   "cell_type": "code",
   "execution_count": null,
   "metadata": {
    "collapsed": false
   },
   "outputs": [],
   "source": [
    "si3 = pd.Series([1, 5, 100, 0, -6, -10, -100])\n",
    "si3[ si3 < 0 ] = 0\n",
    "si3"
   ]
  },
  {
   "cell_type": "markdown",
   "metadata": {},
   "source": [
    "### Series.apply()"
   ]
  },
  {
   "cell_type": "code",
   "execution_count": null,
   "metadata": {
    "collapsed": false
   },
   "outputs": [],
   "source": [
    "ss = pd.Series(['a', 'b', 'C', 'd'])\n",
    "ssc = ss.apply(str.upper)\n",
    "ssc"
   ]
  },
  {
   "cell_type": "code",
   "execution_count": null,
   "metadata": {
    "collapsed": false
   },
   "outputs": [],
   "source": [
    "si = pd.Series([1, 2, 3, 4, 5])\n",
    "sj = si.apply(lambda x: 'num_' + str(x))\n",
    "print sj"
   ]
  },
  {
   "cell_type": "markdown",
   "metadata": {},
   "source": [
    "### DataFrame as a container of Series objects"
   ]
  },
  {
   "cell_type": "code",
   "execution_count": null,
   "metadata": {
    "collapsed": false
   },
   "outputs": [],
   "source": [
    "dfi = pd.DataFrame(np.arange(30).reshape(6,5))\n",
    "dfi.columns = ['c1', 'c2', 'c3', 'c4', 'c5']\n",
    "dfi.index = ['r1', 'r2', 'r3', 'r4', 'r5', 'r6']\n",
    "dfi"
   ]
  },
  {
   "cell_type": "code",
   "execution_count": null,
   "metadata": {
    "collapsed": false
   },
   "outputs": [],
   "source": [
    "print dfi['c1']\n",
    "print\n",
    "print 'type:', type(dfi['c1'])  "
   ]
  },
  {
   "cell_type": "markdown",
   "metadata": {},
   "source": [
    "### DataFrame initializations"
   ]
  },
  {
   "cell_type": "code",
   "execution_count": null,
   "metadata": {
    "collapsed": false
   },
   "outputs": [],
   "source": [
    "df6 = pd.DataFrame(  {'a': [1, 2, 3, 4], \n",
    "                      'b': [1.0, 1.5, 2.0, 2.5], \n",
    "                      'c': ['a', 'b', 'c', 'd'] }, \n",
    "                     columns=['a', 'b', 'c']  )\n",
    "df6"
   ]
  },
  {
   "cell_type": "code",
   "execution_count": null,
   "metadata": {
    "collapsed": false
   },
   "outputs": [],
   "source": [
    "dflol = pd.DataFrame([ [1, 0.5, 'a'], \n",
    "                       [2, 0.6, 'b'], \n",
    "                       [3, 0.7, 'c'] ], columns=['col1', 'col2', 'col3'],\n",
    "                                        index=['r1', 'r2', 'r3'])\n",
    "dflol"
   ]
  },
  {
   "cell_type": "code",
   "execution_count": null,
   "metadata": {
    "collapsed": false
   },
   "outputs": [],
   "source": [
    "df6 = pd.DataFrame({'Nevada': {2001: 2.4, 2002: 2.9},\n",
    "                    'Ohio': {2000: 1.5, 2001: 1.7, 2002: 3.6}} )\n",
    "\n",
    "df6"
   ]
  },
  {
   "cell_type": "markdown",
   "metadata": {},
   "source": [
    "### Standard Python operations with DataFrames"
   ]
  },
  {
   "cell_type": "code",
   "execution_count": null,
   "metadata": {
    "collapsed": false
   },
   "outputs": [],
   "source": [
    "df = pd.DataFrame( {'a': [1, 2, 3, 3], \n",
    "                    'b': [1.0, 1.5, 2.0, 2.5], \n",
    "                    'c': ['a', 'b', 'c', 'd'] }, index=['r1', 'r2', 'r3', 'r4'] )\n",
    "\n",
    "\n",
    "print 'len:', len(df)\n",
    "\n",
    "print 'len df.columns:', len(df.columns)\n",
    "\n",
    "print 'max (col a):', max(df['a'])\n",
    "\n",
    "print 'col \"a\" as list:', list(df['a'])\n",
    "\n",
    "print 'row \"r2\" as list:', list(df.ix['r2'])\n",
    "\n",
    "print 'set (col a):', set(df['a'])        # set([1, 2, 3, 4])\n",
    "\n",
    "print\n",
    "print 'looping through columns:'\n",
    "for colname in df:\n",
    "    print '{}:  {}'.format(colname, list(df[colname]))\n",
    "print\n",
    "                          # 'a':  pandas.core.series.Series\n",
    "                          # 'b':  pandas.core.series.Series\n",
    "                          # 'c':  pandas.core.series.Series\n",
    "\n",
    "print 'looping through rows with iterrows():'\n",
    "for index, row in df.iterrows():\n",
    "    print 'row {}:  {}'.format(index, list(row))"
   ]
  },
  {
   "cell_type": "markdown",
   "metadata": {},
   "source": [
    "### Index and Column Manipulation"
   ]
  },
  {
   "cell_type": "code",
   "execution_count": null,
   "metadata": {
    "collapsed": false
   },
   "outputs": [],
   "source": [
    "# rename individual columns\n",
    "df = df.rename(columns={'a': 'A'})\n",
    "df = df.rename(index={'alpha': 'affa'})\n",
    "\n",
    "# change labels wholesale\n",
    "df.columns=['col1', 'col2', 'col3' 'col4']\n",
    "df.index=['a', 'b', 'c', 'd']\n",
    "\n",
    "# reset indices to integer starting with 0\n",
    "df.reset_index()\n",
    "\n",
    "# set name for index and columns\n",
    "df.index.name = 'year'\n",
    "df.columns.name = 'state'\n",
    "\n",
    "print 'before reordering'\n",
    "print df\n",
    "print\n",
    "\n",
    "# reindex ordering by index:  \n",
    "df = df.reindex(reversed(df.index))\n",
    "print 'reindex index'\n",
    "print df\n",
    "print\n",
    "\n",
    "df = df.reindex(columns=reversed(df.columns))\n",
    "print 'reindex columns'\n",
    "print df"
   ]
  },
  {
   "cell_type": "markdown",
   "metadata": {},
   "source": [
    "### Slice and Dice a DataFrame"
   ]
  },
  {
   "cell_type": "code",
   "execution_count": null,
   "metadata": {
    "collapsed": false
   },
   "outputs": [],
   "source": [
    "df = pd.DataFrame( {'a': [1, 2, 3, 4], \n",
    "                    'b': [1.0, 1.5, 2.0, 2.5], \n",
    "                    'c': ['a', 'b', 'c', 'd'] }, index=['r1', 'r2', 'r3', 'r4'] )\n",
    "df"
   ]
  },
  {
   "cell_type": "code",
   "execution_count": null,
   "metadata": {
    "collapsed": false
   },
   "outputs": [],
   "source": [
    "df[['b', 'c']]"
   ]
  },
  {
   "cell_type": "code",
   "execution_count": null,
   "metadata": {
    "collapsed": false
   },
   "outputs": [],
   "source": [
    "df.ix['r1']"
   ]
  },
  {
   "cell_type": "code",
   "execution_count": null,
   "metadata": {
    "collapsed": false
   },
   "outputs": [],
   "source": [
    "df[['a', 'b']]['r1': 'r3']"
   ]
  },
  {
   "cell_type": "code",
   "execution_count": null,
   "metadata": {
    "collapsed": false
   },
   "outputs": [],
   "source": [
    "df.ix[['r1', 'r2', 'r3']][['a', 'b']]"
   ]
  },
  {
   "cell_type": "markdown",
   "metadata": {},
   "source": [
    "### Vectorized Operations on Dataframes"
   ]
  },
  {
   "cell_type": "code",
   "execution_count": null,
   "metadata": {
    "collapsed": false
   },
   "outputs": [],
   "source": [
    "dfi = pd.DataFrame(np.arange(30).reshape(6,5),\n",
    "                   columns = ['c1', 'c2', 'c3', 'c4', 'c5'],\n",
    "                   index = ['r1', 'r2', 'r3', 'r4', 'r5', 'r6'])\n",
    "dfi2 = dfi.copy()\n",
    "dfi2"
   ]
  },
  {
   "cell_type": "code",
   "execution_count": null,
   "metadata": {
    "collapsed": false
   },
   "outputs": [],
   "source": [
    "dfi2 * 2"
   ]
  },
  {
   "cell_type": "code",
   "execution_count": null,
   "metadata": {
    "collapsed": false
   },
   "outputs": [],
   "source": [
    "dfi2['c1'] * 100"
   ]
  },
  {
   "cell_type": "markdown",
   "metadata": {},
   "source": [
    "### Column-to-column DataFrame operations"
   ]
  },
  {
   "cell_type": "code",
   "execution_count": null,
   "metadata": {
    "collapsed": false
   },
   "outputs": [],
   "source": [
    "dfi2['c1'] = dfi2['c1'] * 100\n",
    "dfi2"
   ]
  },
  {
   "cell_type": "code",
   "execution_count": null,
   "metadata": {
    "collapsed": false
   },
   "outputs": [],
   "source": [
    "dfi2['c1'] = dfi2['c3'] * 100\n",
    "dfi2"
   ]
  },
  {
   "cell_type": "code",
   "execution_count": null,
   "metadata": {
    "collapsed": false
   },
   "outputs": [],
   "source": [
    "dfi2['c6'] = dfi2['c5']\n",
    "dfi2"
   ]
  },
  {
   "cell_type": "code",
   "execution_count": null,
   "metadata": {
    "collapsed": false
   },
   "outputs": [],
   "source": [
    "dfm = pd.DataFrame({ 'floats': [1.3, 2.3, 3.3, 4.3], \n",
    "                     'ints': [1, 2, 3, 4], \n",
    "                     'strs': ['a', 'b', 'c', 'd']    })\n",
    "dfm"
   ]
  },
  {
   "cell_type": "markdown",
   "metadata": {},
   "source": [
    "### apply() and applymap()"
   ]
  },
  {
   "cell_type": "code",
   "execution_count": null,
   "metadata": {
    "collapsed": false
   },
   "outputs": [],
   "source": [
    "dfm['y'] = dfm['strs'] + dfm['ints'].apply(str)\n",
    "dfm"
   ]
  },
  {
   "cell_type": "code",
   "execution_count": null,
   "metadata": {
    "collapsed": false
   },
   "outputs": [],
   "source": [
    "dfi3 = dfi.copy()\n",
    "dfi3"
   ]
  },
  {
   "cell_type": "code",
   "execution_count": null,
   "metadata": {
    "collapsed": false
   },
   "outputs": [],
   "source": [
    "dfi3 = dfi3 * 100\n",
    "dfi3"
   ]
  },
  {
   "cell_type": "code",
   "execution_count": null,
   "metadata": {
    "collapsed": false
   },
   "outputs": [],
   "source": [
    "dfilen = dfi.applymap(lambda x: len(str(x)))\n",
    "dfilen"
   ]
  },
  {
   "cell_type": "markdown",
   "metadata": {},
   "source": [
    "### mask"
   ]
  },
  {
   "cell_type": "code",
   "execution_count": null,
   "metadata": {
    "collapsed": false
   },
   "outputs": [],
   "source": [
    "mask = dfi3['c1'] < 20\n",
    "dfi3['c1'][ mask ] = 0\n",
    "dfi3"
   ]
  },
  {
   "cell_type": "markdown",
   "metadata": {},
   "source": [
    "### fillna()"
   ]
  },
  {
   "cell_type": "code",
   "execution_count": null,
   "metadata": {
    "collapsed": false
   },
   "outputs": [],
   "source": [
    "nandf = pd.DataFrame( { 'c1': [6, 6, np.nan],\n",
    "                        'c2': [np.nan, 1, 3],\n",
    "                        'c3': [2, 2, 2] } )\n",
    "nandf"
   ]
  },
  {
   "cell_type": "code",
   "execution_count": null,
   "metadata": {
    "collapsed": false
   },
   "outputs": [],
   "source": [
    "ndf = nandf.fillna(0)\n",
    "ndf"
   ]
  },
  {
   "cell_type": "markdown",
   "metadata": {},
   "source": [
    "### merge"
   ]
  },
  {
   "cell_type": "code",
   "execution_count": null,
   "metadata": {
    "collapsed": false
   },
   "outputs": [],
   "source": [
    "dfi"
   ]
  },
  {
   "cell_type": "code",
   "execution_count": null,
   "metadata": {
    "collapsed": false
   },
   "outputs": [],
   "source": [
    "dfi2 = pd.DataFrame( { 'c1': [0, 5, 10, 15, 20, 25],\n",
    "                       'c6': [41, 51, 61, 71, 81, 91],\n",
    "                       'c7': [42, 52, 62, 72, 82, 92]  } )\n",
    "\n",
    "dfi3 = dfi.merge(dfi2, on='c1', how='left')\n",
    "dfi3"
   ]
  },
  {
   "cell_type": "markdown",
   "metadata": {},
   "source": [
    "### group by"
   ]
  },
  {
   "cell_type": "code",
   "execution_count": null,
   "metadata": {
    "collapsed": false
   },
   "outputs": [],
   "source": [
    "dfgb = pd.DataFrame({ 'c1': ['a', 'a', 'b', 'b', 'c', 'c'],\n",
    "                      'c2': [ 6,  11,  16,  21,  26,  36 ] },\n",
    "                      index=['r1', 'r2', 'r3', 'r4', 'r5', 'r6'])\n",
    "dfgb"
   ]
  },
  {
   "cell_type": "code",
   "execution_count": null,
   "metadata": {
    "collapsed": false
   },
   "outputs": [],
   "source": [
    "dfgb.groupby('c1').sum()"
   ]
  },
  {
   "cell_type": "markdown",
   "metadata": {},
   "source": [
    "### List of selected groupby functions"
   ]
  },
  {
   "cell_type": "markdown",
   "metadata": {},
   "source": [
    "count<BR>\n",
    "mean<BR>\n",
    "sum<BR>\n",
    "size<BR>\n",
    "describe<BR>\n",
    "min<BR>\n",
    "max<BR>"
   ]
  },
  {
   "cell_type": "code",
   "execution_count": null,
   "metadata": {
    "collapsed": true
   },
   "outputs": [],
   "source": []
  }
 ],
 "metadata": {
  "anaconda-cloud": {},
  "kernelspec": {
   "display_name": "Python [default]",
   "language": "python",
   "name": "python2"
  },
  "language_info": {
   "codemirror_mode": {
    "name": "ipython",
    "version": 2
   },
   "file_extension": ".py",
   "mimetype": "text/x-python",
   "name": "python",
   "nbconvert_exporter": "python",
   "pygments_lexer": "ipython2",
   "version": "2.7.12"
  }
 },
 "nbformat": 4,
 "nbformat_minor": 1
}
