{
 "cells": [
  {
   "cell_type": "markdown",
   "metadata": {},
   "source": [
    "# 10/17/2016: Session 4\n",
    "# Functions, Modules"
   ]
  },
  {
   "cell_type": "markdown",
   "metadata": {},
   "source": [
    "## RECAP"
   ]
  },
  {
   "cell_type": "code",
   "execution_count": null,
   "metadata": {
    "collapsed": true,
    "nbpresent": {
     "id": "b2a3ecc0-07f0-4138-b447-209bd71b86dc"
    }
   },
   "outputs": [],
   "source": [
    "if 'mtime' in mydict:\n",
    "    timeval = mydict['mtime']\n",
    "else:\n",
    "    timeval = None"
   ]
  },
  {
   "cell_type": "code",
   "execution_count": 9,
   "metadata": {
    "collapsed": true,
    "nbpresent": {
     "id": "4f922e47-a808-4d3f-b04a-728fc8fa4874"
    }
   },
   "outputs": [],
   "source": [
    "states_dict = {}"
   ]
  },
  {
   "cell_type": "code",
   "execution_count": null,
   "metadata": {
    "collapsed": true,
    "nbpresent": {
     "id": "97fe5f65-8164-4940-ba97-8c8a2b374d05"
    }
   },
   "outputs": [],
   "source": [
    "# OPTION 1\n",
    "if 'NY' in states_dict:\n",
    "    states_dict['NY'] += 1\n",
    "else:\n",
    "    states_dict['NY'] = 1"
   ]
  },
  {
   "cell_type": "code",
   "execution_count": null,
   "metadata": {
    "collapsed": true,
    "nbpresent": {
     "id": "9d7f08a8-aedf-46da-8830-54d4da760774"
    }
   },
   "outputs": [],
   "source": [
    "# OPTION 2\n",
    "states_dict['NY'] = states_dict.get('NY', 1)"
   ]
  },
  {
   "cell_type": "code",
   "execution_count": 7,
   "metadata": {
    "collapsed": false,
    "nbpresent": {
     "id": "0a8e5077-00fe-47ff-a461-3ff9243bc1b3"
    }
   },
   "outputs": [],
   "source": [
    "# OPTION 3\n",
    "try:\n",
    "    states_dict['NY'] += 1\n",
    "    #or we can also reference a function (e.g., increment_keyval(states_dict, 'NY'))\n",
    "except KeyError:\n",
    "    states_dict['NY'] = 1"
   ]
  },
  {
   "cell_type": "code",
   "execution_count": null,
   "metadata": {
    "collapsed": false,
    "nbpresent": {
     "id": "760c4294-7023-4538-bb79-055da9355953"
    }
   },
   "outputs": [],
   "source": [
    "#try-except can also be done with:\n",
    "try:\n",
    "    files = os.listdir(sys.argv[1])\n",
    "except OSError, msg:\n",
    "    print 'problem reading dir: ', msg\n",
    "    exit()\n",
    "\n",
    "#different from \"if isdir()\" in that "
   ]
  },
  {
   "cell_type": "code",
   "execution_count": null,
   "metadata": {
    "collapsed": true
   },
   "outputs": [],
   "source": [
    "def depthree():\n",
    "    try:\n",
    "        files = os.listdir(sys.argv[1])\n",
    "    except OSError:\n",
    "        print 'dir is not readable'\n",
    "        exit()\n",
    "    except IndexError:\n",
    "        print 'please supply dir'\n",
    "    else:\n",
    "        print 'dir was good!'"
   ]
  },
  {
   "cell_type": "markdown",
   "metadata": {},
   "source": [
    "#### REMEMBER\n",
    "If you say \"try: except:\" but never add any exceptions (i.e., except:), then any and all errors will be trapped"
   ]
  },
  {
   "cell_type": "markdown",
   "metadata": {
    "collapsed": true
   },
   "source": [
    "## User Defined Functions"
   ]
  },
  {
   "cell_type": "code",
   "execution_count": 7,
   "metadata": {
    "collapsed": false
   },
   "outputs": [
    {
     "ename": "TypeError",
     "evalue": "addthese() takes exactly 2 arguments (1 given)",
     "output_type": "error",
     "traceback": [
      "\u001b[0;31m---------------------------------------------------------------------------\u001b[0m",
      "\u001b[0;31mTypeError\u001b[0m                                 Traceback (most recent call last)",
      "\u001b[0;32m<ipython-input-7-23b9d47010bb>\u001b[0m in \u001b[0;36m<module>\u001b[0;34m()\u001b[0m\n\u001b[1;32m      2\u001b[0m     \u001b[0mvalsum\u001b[0m \u001b[0;34m=\u001b[0m \u001b[0mval1\u001b[0m \u001b[0;34m+\u001b[0m \u001b[0mval2\u001b[0m\u001b[0;34m\u001b[0m\u001b[0m\n\u001b[1;32m      3\u001b[0m     \u001b[0;32mreturn\u001b[0m \u001b[0mvalsum\u001b[0m\u001b[0;34m\u001b[0m\u001b[0m\n\u001b[0;32m----> 4\u001b[0;31m \u001b[0mx\u001b[0m \u001b[0;34m=\u001b[0m \u001b[0maddthese\u001b[0m\u001b[0;34m(\u001b[0m\u001b[0;36m10\u001b[0m\u001b[0;34m)\u001b[0m\u001b[0;34m;\u001b[0m \u001b[0;32mprint\u001b[0m \u001b[0mx\u001b[0m\u001b[0;34m\u001b[0m\u001b[0m\n\u001b[0m",
      "\u001b[0;31mTypeError\u001b[0m: addthese() takes exactly 2 arguments (1 given)"
     ]
    }
   ],
   "source": [
    "def addthese(val1, val2):\n",
    "    valsum = val1 + val2\n",
    "    return valsum\n",
    "x = addthese(10); print x"
   ]
  },
  {
   "cell_type": "code",
   "execution_count": 9,
   "metadata": {
    "collapsed": false
   },
   "outputs": [
    {
     "name": "stdout",
     "output_type": "stream",
     "text": [
      "10\n"
     ]
    }
   ],
   "source": [
    "def addthese(val1, val2=0):\n",
    "    valsum = val1 + val2\n",
    "    return valsum\n",
    "x = addthese(10); print x"
   ]
  },
  {
   "cell_type": "code",
   "execution_count": null,
   "metadata": {
    "collapsed": true
   },
   "outputs": [],
   "source": [
    "#the use of optional arguments is common, for example:\n",
    "sorted(mylist, reverse=False)\n",
    "#or\n",
    "def sorted1(sequence, reverse=False, key=lambda x: x) # this lambda just returns x"
   ]
  },
  {
   "cell_type": "code",
   "execution_count": 14,
   "metadata": {
    "collapsed": false
   },
   "outputs": [
    {
     "name": "stdout",
     "output_type": "stream",
     "text": [
      "(10, 20)\n",
      "{'myval': 100, 'flag1': True}\n",
      "None\n"
     ]
    }
   ],
   "source": [
    "## IMPORTANT\n",
    "\n",
    "def addthese(*args, **kwargs):\n",
    "    print args\n",
    "    print kwargs\n",
    "    \n",
    "x = addthese(10,20,flag1=True, myval=100)\n",
    "\n",
    "print x"
   ]
  },
  {
   "cell_type": "code",
   "execution_count": null,
   "metadata": {
    "collapsed": false
   },
   "outputs": [],
   "source": [
    "# python has no block scoping (instead, function scoping)\n",
    "\n",
    "def myfunc():\n",
    "    a = 10\n",
    "    return a\n",
    "\n",
    "var = myfunc()     # var is now 10\n",
    "print a            # NameError ('a' does not exist here)\n",
    "\n",
    "# Variable names initialized inside a function (var) are local to the function, and not available outside the function.  "
   ]
  },
  {
   "cell_type": "code",
   "execution_count": 25,
   "metadata": {
    "collapsed": false
   },
   "outputs": [],
   "source": [
    "# global variables (i.e., ones defined outside a function) are available both inside and outside functions:\n",
    "\n",
    "def f():\n",
    "      l_var = 10 #local var\n",
    "\n",
    "g_var = 'hello' #global var"
   ]
  },
  {
   "cell_type": "markdown",
   "metadata": {},
   "source": [
    "#### don't use global variables in functions!\n",
    "\n",
    "Instead, pass them as arguments\n",
    "\n",
    "e.g."
   ]
  },
  {
   "cell_type": "code",
   "execution_count": null,
   "metadata": {
    "collapsed": true
   },
   "outputs": [],
   "source": [
    "def addthese(arg):\n",
    "    print arg + 2\n",
    "addthese(var2)"
   ]
  },
  {
   "cell_type": "code",
   "execution_count": null,
   "metadata": {
    "collapsed": true
   },
   "outputs": [],
   "source": [
    "def myfunc():\n",
    "    len = 'inside myfunc'  # local scope:  len is initialized in the function\n",
    "    print len\n",
    "\n",
    "print len                  # built-in scope:  prints '<built-in function len>'\n",
    "\n",
    "len = 'in global scope'    # assigned in global scope:  a global variable\n",
    "print len                  # global scope:  prints 'in global scope'\n",
    "\n",
    "myfunc()                   # prints 'inside myfunc' (i.e. the function executes)\n",
    "\n",
    "print len                  # prints 'in global scope' (the local len is gone, so we see the globall\n",
    "\n",
    "del len                    # 'deletes' the global len\n",
    "print len                  # prints '<built-in function len>'"
   ]
  },
  {
   "cell_type": "code",
   "execution_count": null,
   "metadata": {
    "collapsed": true
   },
   "outputs": [],
   "source": [
    "'''\n",
    "Local: local to (defined in) a function\n",
    "Enclosing: local to a function that may have other functions in it\n",
    "Global: available anywhere in the script (also called file scope)\n",
    "Built-in: a built-in name (usually a function like len() or str())\n",
    "\n",
    "A variable in a given scope can be \"hidden\" by a same-named variable in a scope above it\n",
    "'''"
   ]
  },
  {
   "cell_type": "code",
   "execution_count": null,
   "metadata": {
    "collapsed": false
   },
   "outputs": [],
   "source": [
    "# side note:\n",
    "open('file.txt')\n",
    "for line in fh: #this doesn't load the entire file in memory\n",
    "    pass\n",
    "#but\n",
    "open('file.txt')\n",
    "for line in fh.readlines(): #this loads the entire file in memory\n",
    "    pass"
   ]
  },
  {
   "cell_type": "code",
   "execution_count": null,
   "metadata": {
    "collapsed": false
   },
   "outputs": [],
   "source": [
    "x = len #gives x the powers of len\n",
    "len = 10 #makes len an integer\n",
    "\n",
    "print x('hello') #this will give us 5, the length of the string\n",
    "print len('hello') #this will return an error, like saying 10('hello)"
   ]
  },
  {
   "cell_type": "code",
   "execution_count": 1,
   "metadata": {
    "collapsed": false
   },
   "outputs": [
    {
     "data": {
      "text/plain": [
       "5"
      ]
     },
     "execution_count": 1,
     "metadata": {},
     "output_type": "execute_result"
    }
   ],
   "source": [
    "# likewise, what if you reassign a built in name in a function?\n",
    "def myfunc():\n",
    "    len = 'hey!'\n",
    "\n",
    "myfunc()\n",
    "len('hello') # the len inside the function is local, cannot be called from global space"
   ]
  },
  {
   "cell_type": "markdown",
   "metadata": {
    "collapsed": false
   },
   "source": [
    "## Modules\n",
    "Modules are files that contain reusable Python code:  we often refer to them as \"libraries\" because they contain code that can be used in other scripts.  "
   ]
  },
  {
   "cell_type": "code",
   "execution_count": null,
   "metadata": {
    "collapsed": true
   },
   "outputs": [],
   "source": [
    "'''\n",
    "\n",
    "Save all of the following in a module named 'messages.py'\n",
    "\n",
    "'''\n",
    "import sys\n",
    "\n",
    "def print_warning(msg):\n",
    "    \"\"\"write a message to STDOUT\"\"\"\n",
    "    sys.stdout.write('warning:  {}\\n'.format(msg))\n",
    "\n",
    "def log_message(msg):\n",
    "    \"\"\"write a message to the log file\"\"\"\n",
    "    try:\n",
    "        fh = open('log.txt', 'a')\n",
    "        fh.write(str(msg) + '\\n')\n",
    "    except IOError:\n",
    "        print_warning('log file not readable')"
   ]
  },
  {
   "cell_type": "code",
   "execution_count": null,
   "metadata": {
    "collapsed": true
   },
   "outputs": [],
   "source": [
    "#The global variables in the module become attributes of the module.\n",
    "#The module's variables are accessible through the name of the module, as its attributes.  \n",
    "\n",
    "import messages\n",
    "\n",
    "print \"test program running...\"\n",
    "\n",
    "messages.log_message('this is an important message')\n",
    "messages.print_warning(\"I think we're in trouble.\")"
   ]
  },
  {
   "cell_type": "code",
   "execution_count": null,
   "metadata": {
    "collapsed": true
   },
   "outputs": [],
   "source": [
    "# we can import modules as a more convenient name\n",
    "import messages as msg"
   ]
  },
  {
   "cell_type": "code",
   "execution_count": null,
   "metadata": {
    "collapsed": true
   },
   "outputs": [],
   "source": [
    "# example: argparse\n",
    "\n",
    "import argparse\n",
    "\n",
    "parser = argparse.ArgumentParser(description='Process some integers.')\n",
    "parser.add_argument('integers', metavar='N', type=int, nargs='+',\n",
    "                    help='an integer for the accumulator')\n",
    "parser.add_argument('--sum', dest='accumulate', action='store_const',\n",
    "                    const=sum, default=max,\n",
    "                    help='sum the integers (default: find the max)')\n",
    "\n",
    "args = parser.parse_args()\n",
    "print(args.accumulate(args.integers))"
   ]
  },
  {
   "cell_type": "code",
   "execution_count": 17,
   "metadata": {
    "collapsed": false
   },
   "outputs": [
    {
     "name": "stdout",
     "output_type": "stream",
     "text": [
      "today is the 17th day of Oct 2016\n"
     ]
    }
   ],
   "source": [
    "import datetime\n",
    "now = datetime.datetime.now()\n",
    "\n",
    "months = ['filler', 'Jan', 'Feb','Mar', 'Apr', 'May', 'Jun', 'Jul', 'Aug', 'Sep', 'Oct', 'Nov', 'Dec']\n",
    "print \"today is the {}th day of {} {}\".format(now.day, months[now.month], now.year)"
   ]
  },
  {
   "cell_type": "code",
   "execution_count": 4,
   "metadata": {
    "collapsed": false
   },
   "outputs": [
    {
     "name": "stdout",
     "output_type": "stream",
     "text": [
      "was this supposed to print?\n"
     ]
    }
   ],
   "source": [
    "def dothis():\n",
    "    print 'hey'\n",
    "    \n",
    "def dothat():\n",
    "    print 'ok!'\n",
    "\n",
    "print 'was this supposed to print?'\n",
    "    \n",
    "def main(): # put all my functions into main()\n",
    "    dothis()\n",
    "    dothat()\n",
    "    \n",
    "if __name__ == '__main__':\n",
    "    '''  allows us to use this script as library'''\n",
    "    main() # allows us to call all of the functions automatically, like dothis() and dothat()\n",
    "\n",
    "# every time we import a module, we are executing it\n",
    "# e.g. if this was a script, importing it would print:"
   ]
  },
  {
   "cell_type": "code",
   "execution_count": null,
   "metadata": {
    "collapsed": true
   },
   "outputs": [],
   "source": []
  }
 ],
 "metadata": {
  "anaconda-cloud": {},
  "kernelspec": {
   "display_name": "Python [default]",
   "language": "python",
   "name": "python2"
  },
  "language_info": {
   "codemirror_mode": {
    "name": "ipython",
    "version": 2
   },
   "file_extension": ".py",
   "mimetype": "text/x-python",
   "name": "python",
   "nbconvert_exporter": "python",
   "pygments_lexer": "ipython2",
   "version": "2.7.12"
  },
  "nbpresent": {
   "slides": {},
   "themes": {
    "default": "5f5b0f3a-5c07-4d9c-81bf-116b3825e317",
    "theme": {
     "5f5b0f3a-5c07-4d9c-81bf-116b3825e317": {
      "backgrounds": {
       "backgroundColor": {
        "background-color": "backgroundColor",
        "id": "backgroundColor"
       }
      },
      "id": "5f5b0f3a-5c07-4d9c-81bf-116b3825e317",
      "palette": {
       "backgroundColor": {
        "id": "backgroundColor",
        "rgb": [
         34,
         34,
         34
        ]
       },
       "headingColor": {
        "id": "headingColor",
        "rgb": [
         238,
         238,
         238
        ]
       },
       "linkColor": {
        "id": "linkColor",
        "rgb": [
         170,
         34,
         51
        ]
       },
       "mainColor": {
        "id": "mainColor",
        "rgb": [
         238,
         238,
         238
        ]
       }
      },
      "rules": {
       "a": {
        "color": "linkColor"
       },
       "h1": {
        "color": "headingColor",
        "font-family": "Ubuntu",
        "font-size": 7
       },
       "h2": {
        "color": "headingColor",
        "font-family": "Ubuntu",
        "font-size": 5
       },
       "h3": {
        "color": "headingColor",
        "font-family": "Ubuntu",
        "font-size": 3.75
       },
       "h4": {
        "color": "headingColor",
        "font-family": "Ubuntu",
        "font-size": 3
       },
       "h5": {
        "color": "headingColor",
        "font-family": "Ubuntu"
       },
       "h6": {
        "color": "headingColor",
        "font-family": "Ubuntu"
       },
       "h7": {
        "color": "headingColor",
        "font-family": "Ubuntu"
       },
       "li": {
        "color": "mainColor",
        "font-family": "Ubuntu",
        "font-size": 5
       },
       "p": {
        "color": "mainColor",
        "font-family": "Ubuntu",
        "font-size": 5
       }
      },
      "text-base": {
       "color": "mainColor",
       "font-family": "Ubuntu",
       "font-size": 5
      }
     }
    }
   }
  }
 },
 "nbformat": 4,
 "nbformat_minor": 1
}
