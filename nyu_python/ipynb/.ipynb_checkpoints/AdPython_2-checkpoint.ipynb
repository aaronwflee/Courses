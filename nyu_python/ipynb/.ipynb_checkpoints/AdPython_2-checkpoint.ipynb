{
 "cells": [
  {
   "cell_type": "markdown",
   "metadata": {},
   "source": [
    "# 9/26/2016: Session 2\n",
    "# Containers: Lists, Tuples, Sets, Dictionaries"
   ]
  },
  {
   "cell_type": "markdown",
   "metadata": {},
   "source": [
    "### 3 pillars of OOP\n",
    "Encapsulation\n",
    "Inheritance\n",
    "Polymorphism = identical interface to differently-typed objects to achieve a similar result"
   ]
  },
  {
   "cell_type": "code",
   "execution_count": 7,
   "metadata": {
    "collapsed": false
   },
   "outputs": [
    {
     "name": "stdout",
     "output_type": "stream",
     "text": [
      "<type 'str'>\n",
      "<type 'type'>\n"
     ]
    }
   ],
   "source": [
    "\n",
    "var = 'hello'\n",
    "print type(var)\n",
    "x = type(var)\n",
    "\n",
    "print type(x)"
   ]
  },
  {
   "cell_type": "code",
   "execution_count": null,
   "metadata": {
    "collapsed": true
   },
   "outputs": [],
   "source": [
    "#POLYMORPHISM\n",
    "\n",
    "import urllib\n",
    "urlh - urllib.open('http://www.yahoo.com')\n",
    "\n",
    "# 3 same ways\n",
    "webpage_text = urlh.read() #1\n",
    "lines = urlh.readlines() #2\n",
    "for line in urlh: #3\n",
    "    print line\n",
    "    \n",
    "    \n",
    "# another example\n",
    "print 'hello' + 'world'\n",
    "print 'hello'.__add__('world')"
   ]
  },
  {
   "cell_type": "code",
   "execution_count": 14,
   "metadata": {
    "collapsed": true
   },
   "outputs": [],
   "source": [
    "# create a string, a list, a tuple, a set, a dict\n",
    "mystr = 'hey'\n",
    "mylist = ['a', 'b', 'c', 'd']\n",
    "mytuple = (1,2,3,'a')\n",
    "myset = set([1,'a', 2, 'b', 'b', 2])\n",
    "mydict = {'a': 1, 'b':2, 'a': 999, 'b':'HEY'}"
   ]
  },
  {
   "cell_type": "markdown",
   "metadata": {},
   "source": [
    "### Lists"
   ]
  },
  {
   "cell_type": "code",
   "execution_count": 46,
   "metadata": {
    "collapsed": false
   },
   "outputs": [
    {
     "name": "stdout",
     "output_type": "stream",
     "text": [
      "index 0: a\n",
      "index -1: p\n",
      "length: 6\n",
      "['b', 5, 5.56, 2000]\n",
      "['b', 5, 5.56, 2000, 'p']\n",
      "['a', 'b', 5, 5.56, 2000, 'p']\n"
     ]
    }
   ],
   "source": [
    "mylist.__len__()\n",
    "mylist = ['a', 'b', 5, 5.56, 2000, 'p']\n",
    "y = mylist[0]; print 'index 0:', y\n",
    "print 'index -1:', mylist[-1]\n",
    "print 'length:', (len(mylist))\n",
    "print mylist[1:-1]\n",
    "print mylist[1:]\n",
    "print mylist"
   ]
  },
  {
   "cell_type": "code",
   "execution_count": 44,
   "metadata": {
    "collapsed": false
   },
   "outputs": [
    {
     "name": "stdout",
     "output_type": "stream",
     "text": [
      "[4, 5, 5.56, 2000, 'a', 'b', 'p']\n"
     ]
    }
   ],
   "source": [
    "smylist = sorted(mylist)\n",
    "# it sorts strings and number - shouldn't do this, more like PERL behavior\n",
    "print(smylist)"
   ]
  },
  {
   "cell_type": "code",
   "execution_count": 49,
   "metadata": {
    "collapsed": false
   },
   "outputs": [
    {
     "name": "stdout",
     "output_type": "stream",
     "text": [
      "['a', 'b', 5, 5.56, 2000, 'p', 4, 4, 4, 'c', 'd', 'e']\n",
      "['a', 'b', 'c', 'a', 'b', 'c', 'a', 'b', 'c']\n",
      "'c' is in y\n"
     ]
    }
   ],
   "source": [
    "# append new item to list\n",
    "mylist.append(4)\n",
    "# join two lists\n",
    "newlist = mylist + ['c', 'd', 'e']\n",
    "print newlist\n",
    "\n",
    "#multiple (i.e., repeat) lists\n",
    "y = ['a', 'b', 'c'] * 3\n",
    "print y \n",
    "\n",
    "# check if an object is in a list\n",
    "if 'c' in y:\n",
    "    print \"'c' is in y\""
   ]
  },
  {
   "cell_type": "code",
   "execution_count": 62,
   "metadata": {
    "collapsed": false
   },
   "outputs": [
    {
     "name": "stdout",
     "output_type": "stream",
     "text": [
      "26\n",
      "v\n",
      "['z', 'y', 'x', 'w', 'v', 'u', 't', 's', 'r', 'q', 'p', 'o', 'n', 'm', 'l', 'k', 'j', 'i', 'h', 'g', 'f', 'e', 'd', 'c', 'b', 'a']\n"
     ]
    }
   ],
   "source": [
    "mys = 'abcdefghijklmnopqrstuvwxyz'\n",
    "print len(mys)\n",
    "print mys[-5]\n",
    "\n",
    "let = 'qwertyuiopasdfghjklzxcvbnm'\n",
    "letters = sorted(mys, reverse=True) # sorted ALWAYS returns a list\n",
    "print letters"
   ]
  },
  {
   "cell_type": "code",
   "execution_count": 67,
   "metadata": {
    "collapsed": false
   },
   "outputs": [
    {
     "name": "stdout",
     "output_type": "stream",
     "text": [
      "['q', 'w', 'e', 'r', 't', 'y', 'u', 'i', 'o', 'p']\n",
      "['q', 'e', 't', 'u', 'o']\n"
     ]
    }
   ],
   "source": [
    "x = list(let[0:10])\n",
    "print x\n",
    "print x[0::2]"
   ]
  },
  {
   "cell_type": "code",
   "execution_count": 77,
   "metadata": {
    "collapsed": false
   },
   "outputs": [
    {
     "name": "stdout",
     "output_type": "stream",
     "text": [
      "{'a': 'b', 'c': 'd', 'e': 'f'}\n"
     ]
    }
   ],
   "source": [
    "x = list('abcdef') #alternatively, ''.join(x), or to make them colon separated, ':'.join(x)\n",
    "keys = x[0::2]\n",
    "values = x[1::2]\n",
    "mydict = dict(zip(keys, values))\n",
    "print mydict"
   ]
  },
  {
   "cell_type": "code",
   "execution_count": 88,
   "metadata": {
    "collapsed": false
   },
   "outputs": [
    {
     "name": "stdout",
     "output_type": "stream",
     "text": [
      "['a', 'b', 'c', 'd', 'e'] ['f', 'g', 'h', 'i', 'j']\n"
     ]
    }
   ],
   "source": [
    "x = ['a','b','c','d','e','f','g','h','i','j']\n",
    "x1 = x[0:len(x)/2]\n",
    "x2 = x[(len(x)/2):]\n",
    "print x1, x2"
   ]
  },
  {
   "cell_type": "code",
   "execution_count": 90,
   "metadata": {
    "collapsed": false
   },
   "outputs": [
    {
     "name": "stdout",
     "output_type": "stream",
     "text": [
      "[('a', 'b'), ('c', 'd'), ('e', 'f'), ('g', 'h'), ('i', 'j')]\n",
      "['ab', 'cd', 'ef', 'gh', 'ij']\n"
     ]
    }
   ],
   "source": [
    "s1 = x[0::2] #get odd number indices of x\n",
    "s2 = x[1::2] #get even number indices of x\n",
    "z1 = zip(s1, s2) #create two-item tuples based on positions in list s1 and s2\n",
    "print z1\n",
    "\n",
    "target_list = []\n",
    "for item in z1:\n",
    "    target_list.append(''.join(item)) #make lists out of two-item tuple in z1\n",
    "print target_list"
   ]
  },
  {
   "cell_type": "code",
   "execution_count": 111,
   "metadata": {
    "collapsed": false
   },
   "outputs": [
    {
     "name": "stdout",
     "output_type": "stream",
     "text": [
      "[(0, 0), (1, 1), (2, 8), (3, 27), (4, 64), (5, 125), (6, 216), (7, 343), (8, 512), (9, 729), (10, 1000)]\n"
     ]
    }
   ],
   "source": [
    "i = range(11)\n",
    "c = [x**3 for x in range(11)]\n",
    "cubes = zip(i,c)\n",
    "print cubes"
   ]
  },
  {
   "cell_type": "markdown",
   "metadata": {},
   "source": [
    "### Tuples"
   ]
  },
  {
   "cell_type": "code",
   "execution_count": null,
   "metadata": {
    "collapsed": true
   },
   "outputs": [],
   "source": [
    "#WITH LISTS:\n",
    "#WHAT WORKS WITH TUPLES?\n",
    "\n",
    "'''\n",
    "len (YES)\n",
    "slicing (YES)\n",
    "subscripting (YES)\n",
    "appending (NO)\n",
    "sorting (YES)\n",
    "'''"
   ]
  },
  {
   "cell_type": "code",
   "execution_count": 135,
   "metadata": {
    "collapsed": false
   },
   "outputs": [
    {
     "name": "stdout",
     "output_type": "stream",
     "text": [
      "(1, 3, 'a', 2) -> [1, 2, 3, 'a']\n"
     ]
    },
    {
     "data": {
      "text/plain": [
       "'a'"
      ]
     },
     "execution_count": 135,
     "metadata": {},
     "output_type": "execute_result"
    }
   ],
   "source": [
    "mytuple = (1,3,'a',2)\n",
    "stuple = sorted(mytuple)\n",
    "print mytuple,'->',stuple\n",
    "\n",
    "len(mytuple)\n",
    "mytuple[2]\n",
    "\n",
    "# cannot do mytuple.append(1) because tuples are immutable\n",
    "\n",
    "# why would we use a tuple?\n",
    "    # python knows we're not going to change it -> allocate less memory --> more efficient"
   ]
  },
  {
   "cell_type": "markdown",
   "metadata": {},
   "source": [
    "### Sets"
   ]
  },
  {
   "cell_type": "code",
   "execution_count": 134,
   "metadata": {
    "collapsed": false
   },
   "outputs": [
    {
     "name": "stdout",
     "output_type": "stream",
     "text": [
      "<type 'set'>\n",
      "set([1, 2, 3, 4, 5, 6, 7])\n",
      "set(['!', 'margery', 'there', 'hello'])\n",
      "['hello', 'there', 'margery', '!']\n"
     ]
    }
   ],
   "source": [
    "x = {1,2,3,4,2,5,3,6,2,7}\n",
    "print type(x)\n",
    "print x\n",
    "\n",
    "y = {'hello', 'there','margery', '!'}\n",
    "y1 = ['hello', 'there','margery', '!']\n",
    "print y\n",
    "print y1"
   ]
  },
  {
   "cell_type": "code",
   "execution_count": 142,
   "metadata": {
    "collapsed": false
   },
   "outputs": [
    {
     "name": "stdout",
     "output_type": "stream",
     "text": [
      "set([1, 2, 3, 4, 5, 6, 7, 9])\n"
     ]
    },
    {
     "data": {
      "text/plain": [
       "[1, 2, 3, 4, 5, 6, 7, 9]"
      ]
     },
     "execution_count": 142,
     "metadata": {},
     "output_type": "execute_result"
    }
   ],
   "source": [
    "#len (YES)\n",
    "len(x)\n",
    "#slicing (NO) - no order to a set\n",
    "#subscripting (NO) - no order to a set\n",
    "#appending (SORT OF)\n",
    "x.add(9)\n",
    "print x\n",
    "#sorting (YES)\n",
    "sorted(x)"
   ]
  },
  {
   "cell_type": "markdown",
   "metadata": {},
   "source": [
    "#### So why do we use sets?\n",
    "We use sets when we don't want duplicates - unique values"
   ]
  },
  {
   "cell_type": "code",
   "execution_count": 144,
   "metadata": {
    "collapsed": false
   },
   "outputs": [
    {
     "name": "stdout",
     "output_type": "stream",
     "text": [
      "set(['stop', 'record', 'run'])\n",
      "set(['run', 'xxx', 'stop', 'record', 'delete'])\n"
     ]
    }
   ],
   "source": [
    "valid_args = {'run', 'record', 'stop'}\n",
    "user_input = {'run', 'record', 'record', 'stop', 'run', 'xxx', 'delete'}\n",
    "\n",
    "print user_input.intersection(valid_args) #get items in common\n",
    "print user_input.union(valid_args) #get complete unique list of items"
   ]
  },
  {
   "cell_type": "markdown",
   "metadata": {},
   "source": [
    "### Dictionaries"
   ]
  },
  {
   "cell_type": "code",
   "execution_count": 145,
   "metadata": {
    "collapsed": false
   },
   "outputs": [
    {
     "name": "stdout",
     "output_type": "stream",
     "text": [
      "{'a': 999, 'b': 'HEY'}\n"
     ]
    }
   ],
   "source": [
    "mydict = {'a':1, 'b':2, 'a':999, 'b':'HEY'} \n",
    "print mydict #python discard prior key values -> keys are unique (sets)\n",
    "\n"
   ]
  },
  {
   "cell_type": "code",
   "execution_count": 151,
   "metadata": {
    "collapsed": false
   },
   "outputs": [
    {
     "name": "stdout",
     "output_type": "stream",
     "text": [
      "{0: 0, 1: 1, 2: 8, 3: 27, 4: 64, 5: 125, 6: 216, 7: 343, 8: 512, 9: 729, 10: 1000}\n",
      "\n",
      "\n",
      "64\n"
     ]
    }
   ],
   "source": [
    "i = range(11)\n",
    "c = [x**3 for x in range(11)]\n",
    "\n",
    "d = {}\n",
    "for i,c in zip(i,c): d[i] = c\n",
    "print d\n",
    "print '\\n'\n",
    "print d[4]"
   ]
  },
  {
   "cell_type": "code",
   "execution_count": 172,
   "metadata": {
    "collapsed": false
   },
   "outputs": [
    {
     "name": "stdout",
     "output_type": "stream",
     "text": [
      "nike has larger revenue than acme: True\n",
      "xetalife 220\n",
      "acme 500\n",
      "nike 1000\n",
      "False\n",
      "3\n"
     ]
    }
   ],
   "source": [
    "clientrevenue = {'acme':500, 'xetalife':220, 'nike':1000}\n",
    "print 'nike has larger revenue than acme:', (clientrevenue['nike'] > clientrevenue['acme'])\n",
    "\n",
    "for client in clientrevenue:\n",
    "    print client, clientrevenue[client]\n",
    "\n",
    "print 'adidas' in clientrevenue\n",
    "print len(clientrevenue)"
   ]
  },
  {
   "cell_type": "code",
   "execution_count": 173,
   "metadata": {
    "collapsed": false
   },
   "outputs": [
    {
     "name": "stdout",
     "output_type": "stream",
     "text": [
      "{'xetalife': 220, 'acme': 500, 'nike': 1000}\n",
      "acme 500\n",
      "nike 1000\n",
      "xetalife 220\n"
     ]
    }
   ],
   "source": [
    "print clientrevenue\n",
    "scr =  sorted(clientrevenue) #creates list of keys\n",
    "\n",
    "for comp in scr:\n",
    "    print comp, clientrevenue[comp]"
   ]
  },
  {
   "cell_type": "code",
   "execution_count": 174,
   "metadata": {
    "collapsed": false
   },
   "outputs": [
    {
     "name": "stdout",
     "output_type": "stream",
     "text": [
      "Help on method_descriptor:\n",
      "\n",
      "pop(...)\n",
      "    D.pop(k[,d]) -> v, remove specified key and return the corresponding value.\n",
      "    If key is not found, d is returned if given, otherwise KeyError is raised\n",
      "\n"
     ]
    }
   ],
   "source": [
    "help(dict.pop)"
   ]
  },
  {
   "cell_type": "code",
   "execution_count": 176,
   "metadata": {
    "collapsed": false
   },
   "outputs": [
    {
     "data": {
      "text/plain": [
       "{'acme': 500, 'xetalife': 220}"
      ]
     },
     "execution_count": 176,
     "metadata": {},
     "output_type": "execute_result"
    }
   ],
   "source": [
    "oldclients = {'nike':clientrevenue.pop('nike'), 'jambajuice':150}\n",
    "#clientrevenue.pop('nike')\n",
    "clientrevenue"
   ]
  },
  {
   "cell_type": "code",
   "execution_count": 177,
   "metadata": {
    "collapsed": false
   },
   "outputs": [
    {
     "data": {
      "text/plain": [
       "{'jambajuice': 150, 'nike': 1000}"
      ]
     },
     "execution_count": 177,
     "metadata": {},
     "output_type": "execute_result"
    }
   ],
   "source": [
    "oldclients"
   ]
  },
  {
   "cell_type": "code",
   "execution_count": 178,
   "metadata": {
    "collapsed": false
   },
   "outputs": [
    {
     "name": "stdout",
     "output_type": "stream",
     "text": [
      "[('jambajuice', 150), ('nike', 1000)]\n"
     ]
    }
   ],
   "source": [
    "print oldclients.items() # .items() creates lists of two-item tuples"
   ]
  }
 ],
 "metadata": {
  "anaconda-cloud": {},
  "kernelspec": {
   "display_name": "Python [default]",
   "language": "python",
   "name": "python2"
  },
  "language_info": {
   "codemirror_mode": {
    "name": "ipython",
    "version": 2
   },
   "file_extension": ".py",
   "mimetype": "text/x-python",
   "name": "python",
   "nbconvert_exporter": "python",
   "pygments_lexer": "ipython2",
   "version": "2.7.12"
  }
 },
 "nbformat": 4,
 "nbformat_minor": 0
}
